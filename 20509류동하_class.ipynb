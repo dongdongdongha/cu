{
  "nbformat": 4,
  "nbformat_minor": 0,
  "metadata": {
    "colab": {
      "provenance": [],
      "authorship_tag": "ABX9TyNFPwyc++LXZI5Um7nRFXHD",
      "include_colab_link": true
    },
    "kernelspec": {
      "name": "python3",
      "display_name": "Python 3"
    },
    "language_info": {
      "name": "python"
    }
  },
  "cells": [
    {
      "cell_type": "markdown",
      "metadata": {
        "id": "view-in-github",
        "colab_type": "text"
      },
      "source": [
        "<a href=\"https://colab.research.google.com/github/dongdongdongha/cu/blob/main/20509%EB%A5%98%EB%8F%99%ED%95%98_class.ipynb\" target=\"_parent\"><img src=\"https://colab.research.google.com/assets/colab-badge.svg\" alt=\"Open In Colab\"/></a>"
      ]
    },
    {
      "cell_type": "code",
      "execution_count": 4,
      "metadata": {
        "id": "xI-ZqaRZ4XZJ"
      },
      "outputs": [],
      "source": [
        "class Character:\n",
        "  def hi():\n",
        "    print(\"안녕하세요\")"
      ]
    },
    {
      "cell_type": "code",
      "source": [
        "swordsman = Character()\n",
        "type(swordsman)"
      ],
      "metadata": {
        "colab": {
          "base_uri": "https://localhost:8080/"
        },
        "id": "9zRwV4bo4qS-",
        "outputId": "9210ff83-e4fb-4cbe-8746-8d6a05a0216d"
      },
      "execution_count": 5,
      "outputs": [
        {
          "output_type": "execute_result",
          "data": {
            "text/plain": [
              "__main__.Character"
            ]
          },
          "metadata": {},
          "execution_count": 5
        }
      ]
    },
    {
      "cell_type": "code",
      "source": [
        "fairy = Character()\n",
        "thief = Character()"
      ],
      "metadata": {
        "id": "5Srd47PM4y1y"
      },
      "execution_count": 6,
      "outputs": []
    },
    {
      "cell_type": "code",
      "source": [
        "swordsman.hi()"
      ],
      "metadata": {
        "colab": {
          "base_uri": "https://localhost:8080/",
          "height": 184
        },
        "id": "KXdXGrxL5bXJ",
        "outputId": "877bf097-2715-4d62-ef6a-516357096636"
      },
      "execution_count": 9,
      "outputs": [
        {
          "output_type": "error",
          "ename": "TypeError",
          "evalue": "ignored",
          "traceback": [
            "\u001b[0;31m---------------------------------------------------------------------------\u001b[0m",
            "\u001b[0;31mTypeError\u001b[0m                                 Traceback (most recent call last)",
            "\u001b[0;32m<ipython-input-9-39123b82418f>\u001b[0m in \u001b[0;36m<cell line: 1>\u001b[0;34m()\u001b[0m\n\u001b[0;32m----> 1\u001b[0;31m \u001b[0mswordsman\u001b[0m\u001b[0;34m.\u001b[0m\u001b[0mhi\u001b[0m\u001b[0;34m(\u001b[0m\u001b[0;34m)\u001b[0m\u001b[0;34m\u001b[0m\u001b[0;34m\u001b[0m\u001b[0m\n\u001b[0m",
            "\u001b[0;31mTypeError\u001b[0m: Character.hi() takes 0 positional arguments but 1 was given"
          ]
        }
      ]
    },
    {
      "cell_type": "code",
      "source": [
        "class Character:\n",
        "  def hi(self):\n",
        "    print(\"안녕하세요\")"
      ],
      "metadata": {
        "id": "lf7AaEZC5ffp"
      },
      "execution_count": 10,
      "outputs": []
    },
    {
      "cell_type": "code",
      "source": [
        "swordsman = Character()\n",
        "swordsman.hi()"
      ],
      "metadata": {
        "colab": {
          "base_uri": "https://localhost:8080/"
        },
        "id": "MwBVMB4a5xYe",
        "outputId": "8930af76-1152-4b82-9b7a-f0659e69614f"
      },
      "execution_count": 11,
      "outputs": [
        {
          "output_type": "stream",
          "name": "stdout",
          "text": [
            "안녕하세요\n"
          ]
        }
      ]
    },
    {
      "cell_type": "code",
      "source": [
        "class Character:\n",
        "  def hi(self, name):\n",
        "    print(\"안녕하세요\")\n",
        "\n",
        "swordsman = Character()\n",
        "swordsman.hi('검술사')"
      ],
      "metadata": {
        "colab": {
          "base_uri": "https://localhost:8080/"
        },
        "id": "1zjrTLEr5_ma",
        "outputId": "d765feee-a1a2-4cfc-edf2-febea204dffe"
      },
      "execution_count": 13,
      "outputs": [
        {
          "output_type": "stream",
          "name": "stdout",
          "text": [
            "안녕하세요\n"
          ]
        }
      ]
    },
    {
      "cell_type": "code",
      "source": [
        "class Character:\n",
        "  def hi(self, name):\n",
        "    print(\"안녕하세요\")\n",
        "  def attack(self, target):\n",
        "    print(target,'을/를 공격합니다.')\n",
        "\n",
        "swordsman = Character()\n",
        "swordsman.attack('도적')"
      ],
      "metadata": {
        "colab": {
          "base_uri": "https://localhost:8080/"
        },
        "id": "HGsEHqCf6MhS",
        "outputId": "8fc4ffc7-612e-488f-ce37-00bd82717cd2"
      },
      "execution_count": 15,
      "outputs": [
        {
          "output_type": "stream",
          "name": "stdout",
          "text": [
            "도적 을/를 공격합니다.\n"
          ]
        }
      ]
    },
    {
      "cell_type": "code",
      "source": [
        "class Character:\n",
        "  def __init__(self, name, hp, ad):\n",
        "    self.name = name\n",
        "    self.strength = hp\n",
        "    self.attack_damage = ad\n",
        "    print('Character 클래스의 객체 생성 =>', self.name)"
      ],
      "metadata": {
        "id": "yX-jx2Xx70KS"
      },
      "execution_count": 22,
      "outputs": []
    },
    {
      "cell_type": "code",
      "source": [
        "swordsman = Character('검술사', 100, 10)"
      ],
      "metadata": {
        "colab": {
          "base_uri": "https://localhost:8080/"
        },
        "id": "f4YcJODd-UsG",
        "outputId": "7eb6715f-0f7b-45e9-c2b3-a25133387e6f"
      },
      "execution_count": 23,
      "outputs": [
        {
          "output_type": "stream",
          "name": "stdout",
          "text": [
            "Character 클래스의 객체 생성 => 검술사\n"
          ]
        }
      ]
    },
    {
      "cell_type": "code",
      "source": [
        "class Character:\n",
        "  def __init__(self, name, hp, ad):\n",
        "    self.name = name\n",
        "    self.strength = hp\n",
        "    self.attack_damage = ad\n",
        "    print('Character 클래스의 객체 생성 =>', self.name)\n",
        "\n",
        "  def information(self):\n",
        "    print(\"이름 =>\", self.name, \"체력 =>\", self.strength, '공격력 =>'\n",
        "    , self.attack_damage)\n",
        "\n",
        "  def attack(self, target):\n",
        "    print(self.name,'이/가', target.name, '(', target.strength,')', '을/를 공격합니다.')\n",
        "    target.strength -= self.attack_damage\n",
        "    print('공격성공!', target.name, '(', target.strength,')')\n",
        "\n",
        "  def lvup(self, lv):\n",
        "    self.attack_damage += 1.2*lv\n",
        "    self.strength += 5*lv"
      ],
      "metadata": {
        "id": "2ywZ1Kj6_Jgx"
      },
      "execution_count": 51,
      "outputs": []
    },
    {
      "cell_type": "code",
      "source": [
        "swordsman = Character('검술사', 100, 10)\n",
        "fairy = Character('요정', 60, 5)\n",
        "thief = Character('도적', 85, 8)\n",
        "swordsman.lvup(1)"
      ],
      "metadata": {
        "colab": {
          "base_uri": "https://localhost:8080/"
        },
        "id": "AbF7RfGX_zRZ",
        "outputId": "5d66b35a-3da0-4fb6-f5dd-4bc75dd3b9d0"
      },
      "execution_count": 52,
      "outputs": [
        {
          "output_type": "stream",
          "name": "stdout",
          "text": [
            "Character 클래스의 객체 생성 => 검술사\n",
            "Character 클래스의 객체 생성 => 요정\n",
            "Character 클래스의 객체 생성 => 도적\n"
          ]
        }
      ]
    },
    {
      "cell_type": "code",
      "source": [
        "swordsman.attack(fairy)"
      ],
      "metadata": {
        "colab": {
          "base_uri": "https://localhost:8080/"
        },
        "id": "JRoBvb2CAbsC",
        "outputId": "ddaa17b9-48cc-4f28-80b8-3c2b8f9b786c"
      },
      "execution_count": 53,
      "outputs": [
        {
          "output_type": "stream",
          "name": "stdout",
          "text": [
            "검술사 이/가 요정 ( 60 ) 을/를 공격합니다.\n",
            "공격성공! 요정 ( 48.8 )\n"
          ]
        }
      ]
    },
    {
      "cell_type": "code",
      "source": [
        "thief.attack(swordsman)"
      ],
      "metadata": {
        "colab": {
          "base_uri": "https://localhost:8080/"
        },
        "id": "B_PxfZ30FBrj",
        "outputId": "785d2c25-9883-4406-d8b5-d59104697305"
      },
      "execution_count": 54,
      "outputs": [
        {
          "output_type": "stream",
          "name": "stdout",
          "text": [
            "도적 이/가 검술사 ( 105 ) 을/를 공격합니다.\n",
            "공격성공! 검술사 ( 97 )\n"
          ]
        }
      ]
    },
    {
      "cell_type": "code",
      "source": [
        "fairy.attack(thief)"
      ],
      "metadata": {
        "colab": {
          "base_uri": "https://localhost:8080/"
        },
        "id": "l8TDjGiJFUSH",
        "outputId": "576fae81-83fd-468d-b5ac-3e0252f4bff8"
      },
      "execution_count": 55,
      "outputs": [
        {
          "output_type": "stream",
          "name": "stdout",
          "text": [
            "요정 이/가 도적 ( 85 ) 을/를 공격합니다.\n",
            "공격성공! 도적 ( 80 )\n"
          ]
        }
      ]
    },
    {
      "cell_type": "code",
      "source": [
        "class Product:\n",
        "  def __init__(self, n, p, s):\n",
        "    self.name, self.price, self.stock = n, p, s\n",
        "\n",
        "  def information(self):\n",
        "    print(\"상품 이름 :\", self.name)\n",
        "    print(\"상품 가격 :\", self.price)\n",
        "    print('남은 재고 :', self.stock)\n",
        "\n",
        "  def buy(self, name, rotn):\n",
        "    print(self.name,'고객님이', self.rptn, '개 구매!')\n",
        "    Product.stock -= self.rotn\n",
        "    name.rnao = self.name\n",
        "    name.snwjr = self.rotn*Product.price\n"
      ],
      "metadata": {
        "id": "3rNdWT8HFgGm"
      },
      "execution_count": 65,
      "outputs": []
    },
    {
      "cell_type": "code",
      "source": [
        "class Member:\n",
        "  def __init__(self, n,j):\n",
        "    self.name = n\n",
        "    self.join = j\n",
        "    self.purchase_list = []\n",
        "    self.purchase_amount = 0\n",
        "\n",
        "  def information(self):\n",
        "    print(\"회원 이름 :\", self.name)\n",
        "    print(\"가입 날짜 :\", self.join)\n",
        "    print(\"구매 내역 :\", self.purchase_list)\n",
        "    print(\"누적 구매금액 :\", self.purchase_amount)\n",
        "\n",
        "  def buy(self, a, ):\n",
        "    print(self,'고객님이', Product.name, '개 구매!')\n",
        "    Product.stock -= self.a\n",
        "    self.purchase_list.append(self.name)\n",
        "    self.purchase_amount += Product.price*self.a"
      ],
      "metadata": {
        "id": "MUiirfgkJCen"
      },
      "execution_count": 112,
      "outputs": []
    },
    {
      "cell_type": "code",
      "source": [
        "socks = Product('socks', 1000, 10)\n",
        "books = Product('books', 17500, 15)"
      ],
      "metadata": {
        "id": "l3o2AXPjNl1F"
      },
      "execution_count": 113,
      "outputs": []
    },
    {
      "cell_type": "code",
      "source": [
        "socks.information()\n",
        "books.information()"
      ],
      "metadata": {
        "colab": {
          "base_uri": "https://localhost:8080/"
        },
        "id": "A7QdN4TJN86-",
        "outputId": "0a4e207a-fb80-4c38-8474-ecb5f78ea868"
      },
      "execution_count": 114,
      "outputs": [
        {
          "output_type": "stream",
          "name": "stdout",
          "text": [
            "상품 이름 : socks\n",
            "상품 가격 : 1000\n",
            "남은 재고 : 10\n",
            "상품 이름 : books\n",
            "상품 가격 : 17500\n",
            "남은 재고 : 15\n"
          ]
        }
      ]
    },
    {
      "cell_type": "code",
      "source": [
        "Anna = Member('Anna', 20200420)\n",
        "Grace = Member('Grace', 20200130)"
      ],
      "metadata": {
        "id": "el4gw1h7OuMF"
      },
      "execution_count": 115,
      "outputs": []
    },
    {
      "cell_type": "code",
      "source": [
        "Anna.information()\n",
        "Grace.information()"
      ],
      "metadata": {
        "colab": {
          "base_uri": "https://localhost:8080/"
        },
        "id": "mNuBCMKuPFea",
        "outputId": "60fef3c3-437a-45fe-bcbc-e00d53b0f9af"
      },
      "execution_count": 116,
      "outputs": [
        {
          "output_type": "stream",
          "name": "stdout",
          "text": [
            "회원 이름 : Anna\n",
            "가입 날짜 : 20200420\n",
            "구매 내역 : []\n",
            "누적 구매금액 : 0\n",
            "회원 이름 : Grace\n",
            "가입 날짜 : 20200130\n",
            "구매 내역 : []\n",
            "누적 구매금액 : 0\n"
          ]
        }
      ]
    },
    {
      "cell_type": "code",
      "source": [
        "Anna.buy(1, socks)"
      ],
      "metadata": {
        "colab": {
          "base_uri": "https://localhost:8080/",
          "height": 184
        },
        "id": "mbxKdBwkPujh",
        "outputId": "6d1317aa-0292-455d-fb4b-d86cdd6ebe24"
      },
      "execution_count": 117,
      "outputs": [
        {
          "output_type": "error",
          "ename": "TypeError",
          "evalue": "ignored",
          "traceback": [
            "\u001b[0;31m---------------------------------------------------------------------------\u001b[0m",
            "\u001b[0;31mTypeError\u001b[0m                                 Traceback (most recent call last)",
            "\u001b[0;32m<ipython-input-117-30e59c060739>\u001b[0m in \u001b[0;36m<cell line: 1>\u001b[0;34m()\u001b[0m\n\u001b[0;32m----> 1\u001b[0;31m \u001b[0mAnna\u001b[0m\u001b[0;34m.\u001b[0m\u001b[0mbuy\u001b[0m\u001b[0;34m(\u001b[0m\u001b[0;36m1\u001b[0m\u001b[0;34m,\u001b[0m \u001b[0msocks\u001b[0m\u001b[0;34m)\u001b[0m\u001b[0;34m\u001b[0m\u001b[0;34m\u001b[0m\u001b[0m\n\u001b[0m",
            "\u001b[0;31mTypeError\u001b[0m: Member.buy() takes 2 positional arguments but 3 were given"
          ]
        }
      ]
    },
    {
      "cell_type": "code",
      "source": [],
      "metadata": {
        "id": "_PdsWJvVR8he"
      },
      "execution_count": 110,
      "outputs": []
    }
  ]
}