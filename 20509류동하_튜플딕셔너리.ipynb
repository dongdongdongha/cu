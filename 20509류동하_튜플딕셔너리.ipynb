{
  "nbformat": 4,
  "nbformat_minor": 0,
  "metadata": {
    "colab": {
      "provenance": [],
      "authorship_tag": "ABX9TyNTaAmAVrnDC2+VGWJLtZ4e",
      "include_colab_link": true
    },
    "kernelspec": {
      "name": "python3",
      "display_name": "Python 3"
    },
    "language_info": {
      "name": "python"
    }
  },
  "cells": [
    {
      "cell_type": "markdown",
      "metadata": {
        "id": "view-in-github",
        "colab_type": "text"
      },
      "source": [
        "<a href=\"https://colab.research.google.com/github/dongdongdongha/cu/blob/main/20509%EB%A5%98%EB%8F%99%ED%95%98_%ED%8A%9C%ED%94%8C%EB%94%95%EC%85%94%EB%84%88%EB%A6%AC.ipynb\" target=\"_parent\"><img src=\"https://colab.research.google.com/assets/colab-badge.svg\" alt=\"Open In Colab\"/></a>"
      ]
    },
    {
      "cell_type": "code",
      "execution_count": 2,
      "metadata": {
        "colab": {
          "base_uri": "https://localhost:8080/"
        },
        "id": "oXjHGcUAyQNG",
        "outputId": "cd406765-1706-42df-b649-14422a49a7c6"
      },
      "outputs": [
        {
          "output_type": "stream",
          "name": "stdout",
          "text": [
            "()\n",
            "<class 'tuple'>\n"
          ]
        }
      ],
      "source": [
        "t1=()\n",
        "print(t1)\n",
        "print(type(t1))"
      ]
    },
    {
      "cell_type": "code",
      "source": [
        "t2=(1,)\n",
        "print(t2)\n",
        "print(type(t2))"
      ],
      "metadata": {
        "colab": {
          "base_uri": "https://localhost:8080/"
        },
        "id": "ftSZB6wizFFQ",
        "outputId": "6b6aad93-c7ed-423e-ebf6-2b1d291b0894"
      },
      "execution_count": 5,
      "outputs": [
        {
          "output_type": "stream",
          "name": "stdout",
          "text": [
            "(1,)\n",
            "<class 'tuple'>\n"
          ]
        }
      ]
    },
    {
      "cell_type": "code",
      "source": [
        "t3=(1,2,3)\n",
        "print(t3)\n",
        "print(type(t3))"
      ],
      "metadata": {
        "colab": {
          "base_uri": "https://localhost:8080/"
        },
        "id": "iGX5k3UEzMqR",
        "outputId": "5e566d23-7b32-4d1f-d728-f9ebcb9f7623"
      },
      "execution_count": 7,
      "outputs": [
        {
          "output_type": "stream",
          "name": "stdout",
          "text": [
            "(1, 2, 3)\n",
            "<class 'tuple'>\n"
          ]
        }
      ]
    },
    {
      "cell_type": "code",
      "source": [
        "t4=1,2,3\n",
        "print(t4)\n",
        "print(type(t4))"
      ],
      "metadata": {
        "colab": {
          "base_uri": "https://localhost:8080/"
        },
        "id": "SmLOw4nFznhI",
        "outputId": "75d49365-70b2-4125-87ae-72726b69b810"
      },
      "execution_count": 9,
      "outputs": [
        {
          "output_type": "stream",
          "name": "stdout",
          "text": [
            "(1, 2, 3)\n",
            "<class 'tuple'>\n"
          ]
        }
      ]
    },
    {
      "cell_type": "code",
      "source": [
        "t5=('a','b',('ab','cd'))\n",
        "print(t5)\n",
        "print(type(t5))\n",
        "print(t5[2])"
      ],
      "metadata": {
        "colab": {
          "base_uri": "https://localhost:8080/"
        },
        "id": "VjmTGgOxzruZ",
        "outputId": "23886800-18ed-4b77-84d2-9c540579152c"
      },
      "execution_count": 11,
      "outputs": [
        {
          "output_type": "stream",
          "name": "stdout",
          "text": [
            "('a', 'b', ('ab', 'cd'))\n",
            "<class 'tuple'>\n",
            "('ab', 'cd')\n"
          ]
        }
      ]
    },
    {
      "cell_type": "code",
      "source": [
        "#p1_ex2\n",
        "tu=2,\n",
        "print(tu)\n",
        "print(type(tu))"
      ],
      "metadata": {
        "colab": {
          "base_uri": "https://localhost:8080/"
        },
        "id": "Z_zTZOLvz_XA",
        "outputId": "f555850a-955c-4e62-fd9c-c706af47bd8d"
      },
      "execution_count": 12,
      "outputs": [
        {
          "output_type": "stream",
          "name": "stdout",
          "text": [
            "(2,)\n",
            "<class 'tuple'>\n"
          ]
        }
      ]
    },
    {
      "cell_type": "code",
      "source": [
        "#p1_ex3-1\n",
        "tu=1,2,3,4,5\n",
        "\n",
        "print(tu[3])\n",
        "print(tu[1:4])\n",
        "print(tu+(6,7))\n",
        "print(tu*2)"
      ],
      "metadata": {
        "colab": {
          "base_uri": "https://localhost:8080/"
        },
        "id": "GRi0Rv8C0tcg",
        "outputId": "47f05998-cc55-43fa-a135-a0dc1fa75b7c"
      },
      "execution_count": 17,
      "outputs": [
        {
          "output_type": "stream",
          "name": "stdout",
          "text": [
            "4\n",
            "(2, 3, 4)\n",
            "(1, 2, 3, 4, 5, 6, 7)\n",
            "(1, 2, 3, 4, 5, 1, 2, 3, 4, 5)\n"
          ]
        }
      ]
    },
    {
      "cell_type": "code",
      "source": [
        "tu[1]=100\n",
        "print[tu]"
      ],
      "metadata": {
        "colab": {
          "base_uri": "https://localhost:8080/",
          "height": 203
        },
        "id": "zAIuY8my06wo",
        "outputId": "ab572681-bfe4-482a-eba2-965cb7767eb4"
      },
      "execution_count": 18,
      "outputs": [
        {
          "output_type": "error",
          "ename": "TypeError",
          "evalue": "ignored",
          "traceback": [
            "\u001b[0;31m---------------------------------------------------------------------------\u001b[0m",
            "\u001b[0;31mTypeError\u001b[0m                                 Traceback (most recent call last)",
            "\u001b[0;32m<ipython-input-18-2c85a9022027>\u001b[0m in \u001b[0;36m<cell line: 1>\u001b[0;34m()\u001b[0m\n\u001b[0;32m----> 1\u001b[0;31m \u001b[0mtu\u001b[0m\u001b[0;34m[\u001b[0m\u001b[0;36m1\u001b[0m\u001b[0;34m]\u001b[0m\u001b[0;34m=\u001b[0m\u001b[0;36m100\u001b[0m\u001b[0;34m\u001b[0m\u001b[0;34m\u001b[0m\u001b[0m\n\u001b[0m\u001b[1;32m      2\u001b[0m \u001b[0mprint\u001b[0m\u001b[0;34m[\u001b[0m\u001b[0mtu\u001b[0m\u001b[0;34m]\u001b[0m\u001b[0;34m\u001b[0m\u001b[0;34m\u001b[0m\u001b[0m\n",
            "\u001b[0;31mTypeError\u001b[0m: 'tuple' object does not support item assignment"
          ]
        }
      ]
    },
    {
      "cell_type": "code",
      "source": [
        "del tu[1]"
      ],
      "metadata": {
        "colab": {
          "base_uri": "https://localhost:8080/",
          "height": 184
        },
        "id": "ywbyKEi31YKQ",
        "outputId": "c87d075c-8396-4345-f557-773a2164cba3"
      },
      "execution_count": 19,
      "outputs": [
        {
          "output_type": "error",
          "ename": "TypeError",
          "evalue": "ignored",
          "traceback": [
            "\u001b[0;31m---------------------------------------------------------------------------\u001b[0m",
            "\u001b[0;31mTypeError\u001b[0m                                 Traceback (most recent call last)",
            "\u001b[0;32m<ipython-input-19-433e51ddb56d>\u001b[0m in \u001b[0;36m<cell line: 1>\u001b[0;34m()\u001b[0m\n\u001b[0;32m----> 1\u001b[0;31m \u001b[0;32mdel\u001b[0m \u001b[0mtu\u001b[0m\u001b[0;34m[\u001b[0m\u001b[0;36m1\u001b[0m\u001b[0;34m]\u001b[0m\u001b[0;34m\u001b[0m\u001b[0;34m\u001b[0m\u001b[0m\n\u001b[0m",
            "\u001b[0;31mTypeError\u001b[0m: 'tuple' object doesn't support item deletion"
          ]
        }
      ]
    },
    {
      "cell_type": "code",
      "source": [
        "#p1_ex4\n",
        "\n",
        "tu='이순신','김유신','강감찬'\n",
        "# print(tu)\n",
        "# print(tu[0])\n",
        "# print(tu[1])\n",
        "# print(tu[2])\n",
        "lee,kim,kang = tu\n",
        "\n",
        "print(lee)\n",
        "print(kim)\n",
        "print(kang)"
      ],
      "metadata": {
        "colab": {
          "base_uri": "https://localhost:8080/"
        },
        "id": "GU_njvdl1j4H",
        "outputId": "578f0d8d-854e-4911-8627-3c5278a8fc15"
      },
      "execution_count": 22,
      "outputs": [
        {
          "output_type": "stream",
          "name": "stdout",
          "text": [
            "이순신\n",
            "김유신\n",
            "강감찬\n"
          ]
        }
      ]
    },
    {
      "cell_type": "code",
      "source": [
        "#p1_ex5\n",
        "\n",
        "a=12\n",
        "b=34\n",
        "print(a,b)\n",
        "\n",
        "c=a\n",
        "a=b\n",
        "b=c\n",
        "\n",
        "print(a,b)"
      ],
      "metadata": {
        "colab": {
          "base_uri": "https://localhost:8080/"
        },
        "id": "Ez2emTKy2QF3",
        "outputId": "b8491b3a-b123-467b-d2c4-8b0dafb6d164"
      },
      "execution_count": 23,
      "outputs": [
        {
          "output_type": "stream",
          "name": "stdout",
          "text": [
            "12 34\n",
            "34 12\n"
          ]
        }
      ]
    },
    {
      "cell_type": "code",
      "source": [
        "#p1_ex6\n",
        "a=12\n",
        "b=34\n",
        "print(a,b)\n",
        "\n",
        "a,b = b,a\n",
        "print(a,b)"
      ],
      "metadata": {
        "colab": {
          "base_uri": "https://localhost:8080/"
        },
        "id": "UTUeXMAN3Ly-",
        "outputId": "769c9a6b-1775-4d3e-bfb7-a82ffff25dbe"
      },
      "execution_count": 25,
      "outputs": [
        {
          "output_type": "stream",
          "name": "stdout",
          "text": [
            "12 34\n",
            "34 12\n"
          ]
        }
      ]
    },
    {
      "cell_type": "code",
      "source": [
        "#p1_ex7\n",
        "d,m= divmod(7,3)\n",
        "print('몫=',d,'나머지=',m)"
      ],
      "metadata": {
        "colab": {
          "base_uri": "https://localhost:8080/"
        },
        "id": "HdgrGTQ-3T1u",
        "outputId": "f751b8f1-73e9-4861-dcee-486b9a15962b"
      },
      "execution_count": 29,
      "outputs": [
        {
          "output_type": "stream",
          "name": "stdout",
          "text": [
            "몫= 2 나머지= 1\n"
          ]
        }
      ]
    },
    {
      "cell_type": "code",
      "source": [
        "#p1_ex8\n",
        "\n",
        "score = [88,95,70,100,99]\n",
        "print(type(score))\n",
        "tu=tuple(score)\n",
        "print(tu)\n",
        "print(type(tu))\n",
        "li = list(tu)\n",
        "print(type(li))\n",
        "print(li)"
      ],
      "metadata": {
        "colab": {
          "base_uri": "https://localhost:8080/"
        },
        "id": "fHkarr213pnN",
        "outputId": "3a4c12e2-c20e-4208-d2a0-4c05f9883c74"
      },
      "execution_count": 31,
      "outputs": [
        {
          "output_type": "stream",
          "name": "stdout",
          "text": [
            "<class 'list'>\n",
            "(88, 95, 70, 100, 99)\n",
            "<class 'tuple'>\n",
            "<class 'list'>\n",
            "[88, 95, 70, 100, 99]\n"
          ]
        }
      ]
    },
    {
      "cell_type": "code",
      "source": [
        "#p1_ex9-1\n",
        "dic={'boy':'소년', 'school':'학교', 'book':'책'}\n",
        "print(dic)\n",
        "print(type(dic))"
      ],
      "metadata": {
        "colab": {
          "base_uri": "https://localhost:8080/"
        },
        "id": "g48OdbTY4p89",
        "outputId": "94607fb1-c81c-4f5d-8f76-b87306a6892c"
      },
      "execution_count": 32,
      "outputs": [
        {
          "output_type": "stream",
          "name": "stdout",
          "text": [
            "{'boy': '소년', 'school': '학교', 'book': '책'}\n",
            "<class 'dict'>\n"
          ]
        }
      ]
    },
    {
      "cell_type": "code",
      "source": [
        "#p1_ex9-2\n",
        "print(dic['boy'])\n",
        "print(dic['book'])\n",
        "print(dic['school'])"
      ],
      "metadata": {
        "colab": {
          "base_uri": "https://localhost:8080/"
        },
        "id": "3WJibrjO9EBP",
        "outputId": "c45fe4e9-262f-42a9-9d07-9a905997f943"
      },
      "execution_count": 35,
      "outputs": [
        {
          "output_type": "stream",
          "name": "stdout",
          "text": [
            "소년\n",
            "책\n",
            "학교\n"
          ]
        }
      ]
    },
    {
      "cell_type": "code",
      "source": [
        "#p1_ex9-3\n",
        "\n",
        "dic={'boy':'소년', 'school':'학교', 'book':'책'}\n",
        "\n",
        "dic['boy'] = '남자아이'\n",
        "dic['girl']='여자아이'\n",
        "\n",
        "print(dic)"
      ],
      "metadata": {
        "colab": {
          "base_uri": "https://localhost:8080/"
        },
        "id": "g4mf9nWy9Z4G",
        "outputId": "934dbd2a-20c7-4dee-c204-44ada65eb721"
      },
      "execution_count": 37,
      "outputs": [
        {
          "output_type": "stream",
          "name": "stdout",
          "text": [
            "{'boy': '남자아이', 'school': '학교', 'book': '책', 'girl': '여자아이'}\n"
          ]
        }
      ]
    },
    {
      "cell_type": "code",
      "source": [
        "#p1_ex9-4\n",
        "dic={'boy':'소년', 'school':'학교', 'book':'책'}\n",
        "\n",
        "del dic['boy']\n",
        "del dic['book']\n",
        "print(dic)"
      ],
      "metadata": {
        "colab": {
          "base_uri": "https://localhost:8080/"
        },
        "id": "wQgHDSj7-oti",
        "outputId": "a50ba23b-20fc-419e-b940-9867bbf6299a"
      },
      "execution_count": 39,
      "outputs": [
        {
          "output_type": "stream",
          "name": "stdout",
          "text": [
            "{'school': '학교'}\n"
          ]
        }
      ]
    },
    {
      "cell_type": "code",
      "source": [
        "dictionary = {\n",
        "    \"name\" : \"7D 건조 망고\",\n",
        "    \"type\" : \"당절임\",\n",
        "    \"ingredient\": [\"망고\", \"설탕\", \"메타중아황산나트륨\", \"치자황색소\"],\n",
        "    \"origin\" : \"필리핀\"\n",
        "}\n",
        "print(dictionary)"
      ],
      "metadata": {
        "colab": {
          "base_uri": "https://localhost:8080/"
        },
        "id": "SvL5SFXp-yxY",
        "outputId": "6144f686-d60d-44c8-8415-6caaa0d3238c"
      },
      "execution_count": 41,
      "outputs": [
        {
          "output_type": "stream",
          "name": "stdout",
          "text": [
            "{'name': '7D 건조 망고', 'type': '당절임', 'ingredient': ['망고', '설탕', '메타중아황산나트륨', '치자황색소'], 'origin': '필리핀'}\n"
          ]
        }
      ]
    },
    {
      "cell_type": "code",
      "source": [
        "print(\"name:\",dictionary['name'])\n",
        "print(\"type:\",dictionary['type'])\n",
        "print(\"ingredient\",dictionary['ingredient'])\n",
        "print(\"origin:\",dictionary['origin'])"
      ],
      "metadata": {
        "colab": {
          "base_uri": "https://localhost:8080/"
        },
        "id": "aalFwLi4_i_m",
        "outputId": "fb3fe436-c1d2-4491-c808-d27cfdc2fd67"
      },
      "execution_count": 42,
      "outputs": [
        {
          "output_type": "stream",
          "name": "stdout",
          "text": [
            "name: 7D 건조 망고\n",
            "type: 당절임\n",
            "ingredient ['망고', '설탕', '메타중아황산나트륨', '치자황색소']\n",
            "origin: 필리핀\n"
          ]
        }
      ]
    },
    {
      "cell_type": "code",
      "source": [
        "dictionary['name'] ='8D 건조 망고'\n",
        "dictionary['price'] = 5000\n",
        "del dictionary['ingredient']\n",
        "print(dictionary)"
      ],
      "metadata": {
        "colab": {
          "base_uri": "https://localhost:8080/"
        },
        "id": "5jbOxhsdBbGl",
        "outputId": "ce39e498-8c01-42d7-c0e2-dfead4c38f41"
      },
      "execution_count": 43,
      "outputs": [
        {
          "output_type": "stream",
          "name": "stdout",
          "text": [
            "{'name': '8D 건조 망고', 'type': '당절임', 'origin': '필리핀', 'price': 5000}\n"
          ]
        }
      ]
    },
    {
      "cell_type": "code",
      "source": [
        "ani = {}\n",
        "print(\"요소 추가전 : \", ani)\n",
        "\n",
        "ani['작가'] = '황미나'\n",
        "ani['연재작'] = '이오니아의 푸른 별'\n",
        "ani['최근작'] = '보톡스'\n",
        "print(\"요소 추가후 : \", ani)\n",
        "\n",
        "del ani['연재작']\n",
        "print(\"요소 제거후 : \", ani)"
      ],
      "metadata": {
        "colab": {
          "base_uri": "https://localhost:8080/"
        },
        "id": "CsA2CFDQB4uj",
        "outputId": "c6c923df-6749-4ee9-8a80-5c739c09e206"
      },
      "execution_count": 45,
      "outputs": [
        {
          "output_type": "stream",
          "name": "stdout",
          "text": [
            "요소 추가전 :  {}\n",
            "요소 추가후 :  {'작가': '황미나', '연재작': '이오니아의 푸른 별', '최근작': '보톡스'}\n",
            "요소 제거후 :  {'작가': '황미나', '최근작': '보톡스'}\n"
          ]
        }
      ]
    },
    {
      "cell_type": "code",
      "source": [
        "a = {'빨강':'red','주황':'orange','노':'yello','초':'green','파':'blue','남':'navy', '보':'puple'}\n",
        "\n",
        "print(\"초록색=\", a['초'])\n",
        "\n",
        "a['흰'] = 'white'\n",
        "a['주'] = 'juhwang'\n",
        "del a['파']\n",
        "\n",
        "print(a)"
      ],
      "metadata": {
        "colab": {
          "base_uri": "https://localhost:8080/"
        },
        "id": "5yk69oBXB8F-",
        "outputId": "aee5e684-8adb-4521-e661-dd535d00109a"
      },
      "execution_count": 52,
      "outputs": [
        {
          "output_type": "stream",
          "name": "stdout",
          "text": [
            "초록색= green\n",
            "{'빨강': 'red', '주황': 'orange', '노': 'yello', '초': 'green', '남': 'navy', '보': 'puple', '흰': 'white', '주': 'juhwang'}\n"
          ]
        }
      ]
    },
    {
      "cell_type": "code",
      "source": [
        "dic={'boy':'소년', 'school':'학교', 'book':'책'}\n",
        "print(dic)\n",
        "print(dic.keys())\n",
        "print(type(dic.keys()))\n",
        "print(dic.values())\n",
        "print(type(dic.values()))\n",
        "print(dic.items())\n",
        "print(type(dic.items()))"
      ],
      "metadata": {
        "colab": {
          "base_uri": "https://localhost:8080/"
        },
        "id": "jmdbPDtYDJ1S",
        "outputId": "bddb0410-32d6-4662-fece-62f0e72010f9"
      },
      "execution_count": 54,
      "outputs": [
        {
          "output_type": "stream",
          "name": "stdout",
          "text": [
            "{'boy': '소년', 'school': '학교', 'book': '책'}\n",
            "dict_keys(['boy', 'school', 'book'])\n",
            "<class 'dict_keys'>\n",
            "dict_values(['소년', '학교', '책'])\n",
            "<class 'dict_values'>\n",
            "dict_items([('boy', '소년'), ('school', '학교'), ('book', '책')])\n",
            "<class 'dict_items'>\n"
          ]
        }
      ]
    },
    {
      "cell_type": "code",
      "source": [
        "#p2_ex15\n",
        "dic={'boy':'소년', 'school':'학교', 'book':'책'}\n",
        "print(dic.get('boy'))\n",
        "print(dic.get('student'))"
      ],
      "metadata": {
        "colab": {
          "base_uri": "https://localhost:8080/"
        },
        "id": "QLdgnyktFLpi",
        "outputId": "b5ffe837-3b7a-4aef-91d2-074136a581d7"
      },
      "execution_count": 55,
      "outputs": [
        {
          "output_type": "stream",
          "name": "stdout",
          "text": [
            "소년\n",
            "None\n"
          ]
        }
      ]
    },
    {
      "cell_type": "code",
      "source": [
        "dic={'boy':'소년', 'school':'학교', 'book':'책'}\n",
        "ddddd = sorted(dic)\n",
        "print(dic)\n",
        "print(ddddd)"
      ],
      "metadata": {
        "colab": {
          "base_uri": "https://localhost:8080/"
        },
        "id": "g9BYNjc6GDeg",
        "outputId": "695f8afa-852d-473a-bd2c-bc7924b6c25e"
      },
      "execution_count": 57,
      "outputs": [
        {
          "output_type": "stream",
          "name": "stdout",
          "text": [
            "{'boy': '소년', 'school': '학교', 'book': '책'}\n",
            "['book', 'boy', 'school']\n"
          ]
        }
      ]
    },
    {
      "cell_type": "code",
      "source": [
        "dic={'boy':'소년', 'school':'학교', 'book':'책'}\n",
        "dic7=sorted(dic.items(), reverse = True)"
      ],
      "metadata": {
        "id": "u7NepRkmHKEV"
      },
      "execution_count": 60,
      "outputs": []
    },
    {
      "cell_type": "code",
      "source": [
        "dic={'boy':'소년', 'school':'학교', 'book':'책'}\n",
        "for value in dic.values():\n",
        "  print(value)"
      ],
      "metadata": {
        "colab": {
          "base_uri": "https://localhost:8080/"
        },
        "id": "KoHUYOKhLiNb",
        "outputId": "c9705073-a25f-4c26-fc6a-2a54330e7490"
      },
      "execution_count": 68,
      "outputs": [
        {
          "output_type": "stream",
          "name": "stdout",
          "text": [
            "소년\n",
            "학교\n",
            "책\n"
          ]
        }
      ]
    },
    {
      "cell_type": "code",
      "source": [
        "pets = [\n",
        "    {'name':'구름', 'age':5},\n",
        "    {'name':'초코', 'age':3},\n",
        "    {'name':'아지', 'age':1},\n",
        "    {'name':'호랑이', 'age':1}\n",
        "]\n",
        "\n",
        "print(\"#우리동네 애완 동물들#\")\n",
        "for i,j in pets.values():\n",
        "  print(i,j)"
      ],
      "metadata": {
        "colab": {
          "base_uri": "https://localhost:8080/",
          "height": 258
        },
        "id": "r_I0fUE7NMt3",
        "outputId": "186130ac-78a4-42ac-d6f5-2d0cb766db79"
      },
      "execution_count": 83,
      "outputs": [
        {
          "output_type": "stream",
          "name": "stdout",
          "text": [
            "#우리동네 애완 동물들#\n"
          ]
        },
        {
          "output_type": "error",
          "ename": "AttributeError",
          "evalue": "ignored",
          "traceback": [
            "\u001b[0;31m---------------------------------------------------------------------------\u001b[0m",
            "\u001b[0;31mAttributeError\u001b[0m                            Traceback (most recent call last)",
            "\u001b[0;32m<ipython-input-83-2d748a89fddc>\u001b[0m in \u001b[0;36m<cell line: 9>\u001b[0;34m()\u001b[0m\n\u001b[1;32m      7\u001b[0m \u001b[0;34m\u001b[0m\u001b[0m\n\u001b[1;32m      8\u001b[0m \u001b[0mprint\u001b[0m\u001b[0;34m(\u001b[0m\u001b[0;34m\"#우리동네 애완 동물들#\"\u001b[0m\u001b[0;34m)\u001b[0m\u001b[0;34m\u001b[0m\u001b[0;34m\u001b[0m\u001b[0m\n\u001b[0;32m----> 9\u001b[0;31m \u001b[0;32mfor\u001b[0m \u001b[0mi\u001b[0m\u001b[0;34m,\u001b[0m\u001b[0mj\u001b[0m \u001b[0;32min\u001b[0m \u001b[0mpets\u001b[0m\u001b[0;34m.\u001b[0m\u001b[0mvalues\u001b[0m\u001b[0;34m(\u001b[0m\u001b[0;34m)\u001b[0m\u001b[0;34m:\u001b[0m\u001b[0;34m\u001b[0m\u001b[0;34m\u001b[0m\u001b[0m\n\u001b[0m\u001b[1;32m     10\u001b[0m   \u001b[0mprint\u001b[0m\u001b[0;34m(\u001b[0m\u001b[0mi\u001b[0m\u001b[0;34m,\u001b[0m\u001b[0mj\u001b[0m\u001b[0;34m)\u001b[0m\u001b[0;34m\u001b[0m\u001b[0;34m\u001b[0m\u001b[0m\n",
            "\u001b[0;31mAttributeError\u001b[0m: 'list' object has no attribute 'values'"
          ]
        }
      ]
    },
    {
      "cell_type": "code",
      "source": [
        "numbers=[1,2,3,4,5,6,7,8,9,5,1,7,3,5,1,3,5,7,9]\n",
        "count={}\n",
        "for i in numbers:\n",
        "  if i in count:\n",
        "    count[i] += 1\n",
        "  else:\n",
        "    count[i] = 1\n",
        "print(count)"
      ],
      "metadata": {
        "colab": {
          "base_uri": "https://localhost:8080/"
        },
        "id": "JzX5hcFtOs5w",
        "outputId": "f871ff29-95cf-466f-fe94-68decafab38a"
      },
      "execution_count": 79,
      "outputs": [
        {
          "output_type": "stream",
          "name": "stdout",
          "text": [
            "{1: 3, 2: 1, 3: 3, 4: 1, 5: 4, 6: 1, 7: 3, 8: 1, 9: 2}\n"
          ]
        }
      ]
    },
    {
      "cell_type": "code",
      "source": [
        "song = \"\"\"by the rivers of babylon\"\"\"\n",
        "alphabet=dict()\n",
        "\n",
        "for c in song:\n",
        "  if c.isalpha()==False:\n",
        "    continue\n",
        "  c=c.lower\n",
        "  if c not in alphabet:\n",
        "    alphabet[c]=1\n",
        "  else:\n",
        "    alphabet[c]+=1\n",
        "print(alphabet)"
      ],
      "metadata": {
        "colab": {
          "base_uri": "https://localhost:8080/"
        },
        "id": "p_z6sBJuQIaQ",
        "outputId": "b1ca39d9-f1ab-49b9-9b2e-1184bb5233ed"
      },
      "execution_count": 85,
      "outputs": [
        {
          "output_type": "stream",
          "name": "stdout",
          "text": [
            "{<built-in method lower of str object at 0x7a8c98529430>: 3, <built-in method lower of str object at 0x7a8c9857ccb0>: 2, <built-in method lower of str object at 0x7a8c98515170>: 1, <built-in method lower of str object at 0x7a8c985691b0>: 1, <built-in method lower of str object at 0x7a8c98555470>: 2, <built-in method lower of str object at 0x7a8c9872fef0>: 2, <built-in method lower of str object at 0x7a8c9872d1b0>: 1, <built-in method lower of str object at 0x7a8c98529d30>: 1, <built-in method lower of str object at 0x7a8c9872c670>: 1, <built-in method lower of str object at 0x7a8c985158b0>: 2, <built-in method lower of str object at 0x7a8c98702370>: 1, <built-in method lower of str object at 0x7a8c98543db0>: 1, <built-in method lower of str object at 0x7a8c98569670>: 1, <built-in method lower of str object at 0x7a8c98568430>: 1}\n"
          ]
        }
      ]
    },
    {
      "cell_type": "code",
      "source": [],
      "metadata": {
        "id": "8KfWxGydSQdh"
      },
      "execution_count": null,
      "outputs": []
    },
    {
      "cell_type": "code",
      "source": [
        "for code in range(ord('a'), ord('z')+1):\n",
        "  c = chr(code)\n",
        "  num =alphabet.get(c,0)\n",
        "  print(c,\"=>\", num)"
      ],
      "metadata": {
        "colab": {
          "base_uri": "https://localhost:8080/"
        },
        "id": "MnSxl6BGRUC1",
        "outputId": "840d35ca-bdd3-4c6c-8419-6a8b48df3f42"
      },
      "execution_count": 87,
      "outputs": [
        {
          "output_type": "stream",
          "name": "stdout",
          "text": [
            "a => 0\n",
            "b => 0\n",
            "c => 0\n",
            "d => 0\n",
            "e => 0\n",
            "f => 0\n",
            "g => 0\n",
            "h => 0\n",
            "i => 0\n",
            "j => 0\n",
            "k => 0\n",
            "l => 0\n",
            "m => 0\n",
            "n => 0\n",
            "o => 0\n",
            "p => 0\n",
            "q => 0\n",
            "r => 0\n",
            "s => 0\n",
            "t => 0\n",
            "u => 0\n",
            "v => 0\n",
            "w => 0\n",
            "x => 0\n",
            "y => 0\n",
            "z => 0\n"
          ]
        }
      ]
    },
    {
      "cell_type": "code",
      "source": [],
      "metadata": {
        "id": "7iEWlP50S3mi"
      },
      "execution_count": null,
      "outputs": []
    }
  ]
}