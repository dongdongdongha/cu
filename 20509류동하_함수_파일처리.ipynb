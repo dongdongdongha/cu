{
  "nbformat": 4,
  "nbformat_minor": 0,
  "metadata": {
    "colab": {
      "provenance": [],
      "authorship_tag": "ABX9TyMy5pghkTxT3rMwMJqopDjW",
      "include_colab_link": true
    },
    "kernelspec": {
      "name": "python3",
      "display_name": "Python 3"
    },
    "language_info": {
      "name": "python"
    }
  },
  "cells": [
    {
      "cell_type": "markdown",
      "metadata": {
        "id": "view-in-github",
        "colab_type": "text"
      },
      "source": [
        "<a href=\"https://colab.research.google.com/github/dongdongdongha/cu/blob/main/20509%EB%A5%98%EB%8F%99%ED%95%98_%ED%95%A8%EC%88%98_%ED%8C%8C%EC%9D%BC%EC%B2%98%EB%A6%AC.ipynb\" target=\"_parent\"><img src=\"https://colab.research.google.com/assets/colab-badge.svg\" alt=\"Open In Colab\"/></a>"
      ]
    },
    {
      "cell_type": "code",
      "execution_count": 1,
      "metadata": {
        "colab": {
          "base_uri": "https://localhost:8080/"
        },
        "id": "UPU5-iFb0lVO",
        "outputId": "9f68eb6c-4c4c-498c-9300-07d04e7c8836"
      },
      "outputs": [
        {
          "output_type": "stream",
          "name": "stdout",
          "text": [
            "a\n"
          ]
        }
      ],
      "source": [
        "print('a')"
      ]
    },
    {
      "cell_type": "code",
      "source": [
        "def Hi():\n",
        "  print(\"Hello World\")\n",
        "Hi()"
      ],
      "metadata": {
        "colab": {
          "base_uri": "https://localhost:8080/"
        },
        "id": "XN1XLYQj1nOJ",
        "outputId": "cf09f8cd-204e-4470-c939-ecd86c23acb9"
      },
      "execution_count": 2,
      "outputs": [
        {
          "output_type": "stream",
          "name": "stdout",
          "text": [
            "Hello World\n"
          ]
        }
      ]
    },
    {
      "cell_type": "code",
      "source": [
        "def tt():\n",
        "  for i in range(5):\n",
        "    for j in range(i+1):\n",
        "      print(\"*\", end = '')\n",
        "    print()\n",
        "tt()\n",
        "tt()\n",
        "tt()"
      ],
      "metadata": {
        "colab": {
          "base_uri": "https://localhost:8080/"
        },
        "id": "TzLdDPfI3P14",
        "outputId": "c154cd7b-755c-465a-b004-0f8c0d6ca15b"
      },
      "execution_count": 5,
      "outputs": [
        {
          "output_type": "stream",
          "name": "stdout",
          "text": [
            "*\n",
            "**\n",
            "***\n",
            "****\n",
            "*****\n",
            "*\n",
            "**\n",
            "***\n",
            "****\n",
            "*****\n",
            "*\n",
            "**\n",
            "***\n",
            "****\n",
            "*****\n"
          ]
        }
      ]
    },
    {
      "cell_type": "code",
      "source": [
        "def name(name):\n",
        "  print(f\"내 이름은 {name}이야. 만나서 반가워\")\n",
        "\n",
        "name(\"채송화\")\n",
        "name(\"아이유\")"
      ],
      "metadata": {
        "colab": {
          "base_uri": "https://localhost:8080/"
        },
        "id": "6C2o4aNl3yiO",
        "outputId": "7b25abca-fd7e-4373-86de-1f8bdd6e89f6"
      },
      "execution_count": 6,
      "outputs": [
        {
          "output_type": "stream",
          "name": "stdout",
          "text": [
            "내 이름은 채송화이야. 만나서 반가워\n",
            "내 이름은 아이유이야. 만나서 반가워\n"
          ]
        }
      ]
    },
    {
      "cell_type": "code",
      "source": [
        "def ev(a):\n",
        "  if a%2 == 0:\n",
        "    print(\"짝수\")\n",
        "  else:\n",
        "    print(\"홀수\")\n",
        "ev(11)"
      ],
      "metadata": {
        "colab": {
          "base_uri": "https://localhost:8080/"
        },
        "id": "wpHLA3GF4Jzw",
        "outputId": "b1a9806d-2d7a-47a4-80ec-5133494882da"
      },
      "execution_count": 8,
      "outputs": [
        {
          "output_type": "stream",
          "name": "stdout",
          "text": [
            "홀수\n"
          ]
        }
      ]
    },
    {
      "cell_type": "code",
      "source": [
        "def r(r):\n",
        "  for i in range(r):\n",
        "    for j in range(i+1):\n",
        "      print(\"*\", end = '')\n",
        "    print()\n",
        "r(1)\n",
        "r(11)"
      ],
      "metadata": {
        "colab": {
          "base_uri": "https://localhost:8080/"
        },
        "id": "DFbpFHGZ4Who",
        "outputId": "356f55c6-0229-4355-8bfc-52c20f0e4195"
      },
      "execution_count": 9,
      "outputs": [
        {
          "output_type": "stream",
          "name": "stdout",
          "text": [
            "*\n",
            "*\n",
            "**\n",
            "***\n",
            "****\n",
            "*****\n",
            "******\n",
            "*******\n",
            "********\n",
            "*********\n",
            "**********\n",
            "***********\n"
          ]
        }
      ]
    },
    {
      "cell_type": "code",
      "source": [
        "def pnt(value, n):\n",
        "  for i in range(n):\n",
        "    print(value)\n",
        "pnt(1,23)"
      ],
      "metadata": {
        "colab": {
          "base_uri": "https://localhost:8080/"
        },
        "id": "QicHbI2H4uFm",
        "outputId": "b95b9688-d936-49ea-d14d-cde32af80a36"
      },
      "execution_count": 11,
      "outputs": [
        {
          "output_type": "stream",
          "name": "stdout",
          "text": [
            "1\n",
            "1\n",
            "1\n",
            "1\n",
            "1\n",
            "1\n",
            "1\n",
            "1\n",
            "1\n",
            "1\n",
            "1\n",
            "1\n",
            "1\n",
            "1\n",
            "1\n",
            "1\n",
            "1\n",
            "1\n",
            "1\n",
            "1\n",
            "1\n",
            "1\n",
            "1\n"
          ]
        }
      ]
    },
    {
      "cell_type": "code",
      "source": [
        "def avg(a,b,c):\n",
        "  sum = a+b+c\n",
        "  print(sum/3)\n",
        "avg(3,5,10)"
      ],
      "metadata": {
        "colab": {
          "base_uri": "https://localhost:8080/"
        },
        "id": "phxno90z5AOG",
        "outputId": "8adaf7e8-9d19-43d3-da0b-4a1127c63f48"
      },
      "execution_count": 13,
      "outputs": [
        {
          "output_type": "stream",
          "name": "stdout",
          "text": [
            "6.0\n"
          ]
        }
      ]
    },
    {
      "cell_type": "code",
      "source": [
        "import random\n",
        "\n",
        "def dnt(n):\n",
        "  for i in range(n):\n",
        "    k = random.randint(1,6)\n",
        "    print(i+1, \"번째 주사위 굴린 결과:\", k)\n",
        "dnt(7)"
      ],
      "metadata": {
        "colab": {
          "base_uri": "https://localhost:8080/"
        },
        "id": "OLzGU18A5R6W",
        "outputId": "f95f8947-01c3-4ebc-fd88-2ea53fdf703f"
      },
      "execution_count": 14,
      "outputs": [
        {
          "output_type": "stream",
          "name": "stdout",
          "text": [
            "1 번째 주사위 굴린 결과: 2\n",
            "2 번째 주사위 굴린 결과: 3\n",
            "3 번째 주사위 굴린 결과: 2\n",
            "4 번째 주사위 굴린 결과: 2\n",
            "5 번째 주사위 굴린 결과: 1\n",
            "6 번째 주사위 굴린 결과: 3\n",
            "7 번째 주사위 굴린 결과: 6\n"
          ]
        }
      ]
    },
    {
      "cell_type": "code",
      "source": [
        "print('b','TT',')*(')"
      ],
      "metadata": {
        "colab": {
          "base_uri": "https://localhost:8080/"
        },
        "id": "jnMthXEz5rIl",
        "outputId": "f0edd316-4e88-47f5-f9ff-150ad42c1567"
      },
      "execution_count": 15,
      "outputs": [
        {
          "output_type": "stream",
          "name": "stdout",
          "text": [
            "b TT )*(\n"
          ]
        }
      ]
    },
    {
      "cell_type": "code",
      "source": [
        "def ism(*ints):\n",
        "  sum = 0\n",
        "  for i in ints:\n",
        "    sum += i\n",
        "  return sum\n",
        "print(ism(1,2,3,4,5))\n",
        "print(ism(109.334,56,657,2,234,7645,75,68,679,67,2))"
      ],
      "metadata": {
        "colab": {
          "base_uri": "https://localhost:8080/"
        },
        "id": "yMZf5tUx53j9",
        "outputId": "11abcf64-69e2-4312-9067-d13d9e23c7ac"
      },
      "execution_count": 16,
      "outputs": [
        {
          "output_type": "stream",
          "name": "stdout",
          "text": [
            "15\n",
            "9594.334\n"
          ]
        }
      ]
    },
    {
      "cell_type": "code",
      "source": [
        "def pnt(s, *ints):\n",
        "  for i in range(s):\n",
        "    for j in ints:\n",
        "      print(j ,  end='')\n",
        "    print()\n",
        "pnt(3, \"ㅎㅇㅌㅂ\",\"파이썬\")"
      ],
      "metadata": {
        "colab": {
          "base_uri": "https://localhost:8080/"
        },
        "id": "wQ3PQM-k69tQ",
        "outputId": "d0bd9f3c-1c79-4c3d-ed34-38269d537fa2"
      },
      "execution_count": 24,
      "outputs": [
        {
          "output_type": "stream",
          "name": "stdout",
          "text": [
            "ㅎㅇㅌㅂ파이썬\n",
            "ㅎㅇㅌㅂ파이썬\n",
            "ㅎㅇㅌㅂ파이썬\n"
          ]
        }
      ]
    },
    {
      "cell_type": "code",
      "source": [
        "print('a')"
      ],
      "metadata": {
        "colab": {
          "base_uri": "https://localhost:8080/"
        },
        "id": "sSW4jBDu7SyN",
        "outputId": "ca1d91fd-1837-4bd5-9847-f019b49de609"
      },
      "execution_count": 20,
      "outputs": [
        {
          "output_type": "stream",
          "name": "stdout",
          "text": [
            "a\n"
          ]
        }
      ]
    },
    {
      "cell_type": "code",
      "source": [
        "def am(c, *a):\n",
        "  if c == \"add\":\n",
        "    result = 0\n",
        "    for i in a:\n",
        "      result = result + i\n",
        "  elif c == \"mul\":\n",
        "    result = 1\n",
        "    for i in a:\n",
        "      result = result * i\n",
        "    return result\n",
        "\n",
        "print(am('add', 1,2,3,4,8))"
      ],
      "metadata": {
        "colab": {
          "base_uri": "https://localhost:8080/"
        },
        "id": "qRp1OG4M7c38",
        "outputId": "42d7267a-59ad-4bf7-e762-7c526db8c438"
      },
      "execution_count": 26,
      "outputs": [
        {
          "output_type": "stream",
          "name": "stdout",
          "text": [
            "None\n"
          ]
        }
      ]
    },
    {
      "cell_type": "code",
      "source": [
        "def start(a, *sa):\n",
        "  for i in sa:\n",
        "    for j in range(int(i)):\n",
        "      print(a, end='')\n",
        "    print()\n",
        "start('*', 3,5,2)"
      ],
      "metadata": {
        "colab": {
          "base_uri": "https://localhost:8080/"
        },
        "id": "5Dc7BsN59IEm",
        "outputId": "a0277069-a432-4280-fecd-5d729a8bae1b"
      },
      "execution_count": 27,
      "outputs": [
        {
          "output_type": "stream",
          "name": "stdout",
          "text": [
            "***\n",
            "*****\n",
            "**\n"
          ]
        }
      ]
    },
    {
      "cell_type": "code",
      "source": [
        "def pn(value, n=2):\n",
        "  for i in range(n):\n",
        "    print(value)\n",
        "\n",
        "pn(\"안녕하세요\")\n",
        "pn(\"안녕히가세요\", 3)"
      ],
      "metadata": {
        "colab": {
          "base_uri": "https://localhost:8080/"
        },
        "id": "UPDY2rP9_-UN",
        "outputId": "fdee9ca3-2dbe-47c5-c861-c4f1d67bf290"
      },
      "execution_count": 28,
      "outputs": [
        {
          "output_type": "stream",
          "name": "stdout",
          "text": [
            "안녕하세요\n",
            "안녕하세요\n",
            "안녕히가세요\n",
            "안녕히가세요\n",
            "안녕히가세요\n"
          ]
        }
      ]
    },
    {
      "cell_type": "code",
      "source": [
        "def cc(begin, end, step):\n",
        "  sum = 0\n",
        "  for num in range(begin, end +1, step):\n",
        "    sum += num\n",
        "  print(\"{}부터 {}까지의 숫자 중 {}간격씩 더한 값은 \".format(begin, end, step), end = '')\n",
        "  return sum\n",
        "\n",
        "print(cc(1,100,1))\n",
        "print(cc(1,100, 12))"
      ],
      "metadata": {
        "colab": {
          "base_uri": "https://localhost:8080/"
        },
        "id": "HIqC4fLMAVw0",
        "outputId": "97e4915a-e492-4c06-f7d2-32722adcdfa1"
      },
      "execution_count": 33,
      "outputs": [
        {
          "output_type": "stream",
          "name": "stdout",
          "text": [
            "1부터 100까지의 숫자 중 1간격씩 더한 값은 5050\n",
            "1부터 100까지의 숫자 중 12간격씩 더한 값은 441\n"
          ]
        }
      ]
    },
    {
      "cell_type": "code",
      "source": [
        "def fn(a,b,c,d,e):\n",
        "  print(a,b,c,d,e)\n",
        "\n",
        "fn(1,2,3,4,5)\n",
        "fn(a=1,b=2,c=3,d=4,e=5)\n",
        "fn(a=2,b=3,c=5,d=1,e=4)\n",
        "fn(1,2,e=5,d=4,c=3)"
      ],
      "metadata": {
        "colab": {
          "base_uri": "https://localhost:8080/"
        },
        "id": "zNy6k-L-BTQs",
        "outputId": "9e56109b-0b91-4c52-aa96-7a73896417c2"
      },
      "execution_count": 35,
      "outputs": [
        {
          "output_type": "stream",
          "name": "stdout",
          "text": [
            "1 2 3 4 5\n",
            "1 2 3 4 5\n",
            "2 3 5 1 4\n",
            "1 2 3 4 5\n"
          ]
        }
      ]
    },
    {
      "cell_type": "code",
      "source": [
        "def pnt(value, n=2):\n",
        "  for i in range(n):\n",
        "    print(value)\n",
        "\n",
        "pnt(\"안녕하세요\")\n",
        "pnt(\"sdlkfj\",3)"
      ],
      "metadata": {
        "colab": {
          "base_uri": "https://localhost:8080/"
        },
        "id": "seyT8unnB9PL",
        "outputId": "6d192a4e-4e62-43d3-a332-37b0dae14138"
      },
      "execution_count": 36,
      "outputs": [
        {
          "output_type": "stream",
          "name": "stdout",
          "text": [
            "안녕하세요\n",
            "안녕하세요\n",
            "sdlkfj\n",
            "sdlkfj\n",
            "sdlkfj\n"
          ]
        }
      ]
    },
    {
      "cell_type": "code",
      "source": [
        "def fn(a,b,c,*d):\n",
        "  print(a,b,c,d)\n",
        "\n",
        "fn(1,2,3,4,5)\n",
        "fn(a=1,b=2,c=3,d=4,e=5)\n",
        "fn(1,2,e=5,d=4,c=3)"
      ],
      "metadata": {
        "colab": {
          "base_uri": "https://localhost:8080/",
          "height": 258
        },
        "id": "M9exd3nNCWFT",
        "outputId": "0af2040d-ba08-4275-a927-33a9134aabea"
      },
      "execution_count": 37,
      "outputs": [
        {
          "output_type": "stream",
          "name": "stdout",
          "text": [
            "1 2 3 (4, 5)\n"
          ]
        },
        {
          "output_type": "error",
          "ename": "TypeError",
          "evalue": "ignored",
          "traceback": [
            "\u001b[0;31m---------------------------------------------------------------------------\u001b[0m",
            "\u001b[0;31mTypeError\u001b[0m                                 Traceback (most recent call last)",
            "\u001b[0;32m<ipython-input-37-393718ef550d>\u001b[0m in \u001b[0;36m<cell line: 5>\u001b[0;34m()\u001b[0m\n\u001b[1;32m      3\u001b[0m \u001b[0;34m\u001b[0m\u001b[0m\n\u001b[1;32m      4\u001b[0m \u001b[0mfn\u001b[0m\u001b[0;34m(\u001b[0m\u001b[0;36m1\u001b[0m\u001b[0;34m,\u001b[0m\u001b[0;36m2\u001b[0m\u001b[0;34m,\u001b[0m\u001b[0;36m3\u001b[0m\u001b[0;34m,\u001b[0m\u001b[0;36m4\u001b[0m\u001b[0;34m,\u001b[0m\u001b[0;36m5\u001b[0m\u001b[0;34m)\u001b[0m\u001b[0;34m\u001b[0m\u001b[0;34m\u001b[0m\u001b[0m\n\u001b[0;32m----> 5\u001b[0;31m \u001b[0mfn\u001b[0m\u001b[0;34m(\u001b[0m\u001b[0ma\u001b[0m\u001b[0;34m=\u001b[0m\u001b[0;36m1\u001b[0m\u001b[0;34m,\u001b[0m\u001b[0mb\u001b[0m\u001b[0;34m=\u001b[0m\u001b[0;36m2\u001b[0m\u001b[0;34m,\u001b[0m\u001b[0mc\u001b[0m\u001b[0;34m=\u001b[0m\u001b[0;36m3\u001b[0m\u001b[0;34m,\u001b[0m\u001b[0md\u001b[0m\u001b[0;34m=\u001b[0m\u001b[0;36m4\u001b[0m\u001b[0;34m,\u001b[0m\u001b[0me\u001b[0m\u001b[0;34m=\u001b[0m\u001b[0;36m5\u001b[0m\u001b[0;34m)\u001b[0m\u001b[0;34m\u001b[0m\u001b[0;34m\u001b[0m\u001b[0m\n\u001b[0m\u001b[1;32m      6\u001b[0m \u001b[0mfn\u001b[0m\u001b[0;34m(\u001b[0m\u001b[0;36m1\u001b[0m\u001b[0;34m,\u001b[0m\u001b[0;36m2\u001b[0m\u001b[0;34m,\u001b[0m\u001b[0me\u001b[0m\u001b[0;34m=\u001b[0m\u001b[0;36m5\u001b[0m\u001b[0;34m,\u001b[0m\u001b[0md\u001b[0m\u001b[0;34m=\u001b[0m\u001b[0;36m4\u001b[0m\u001b[0;34m,\u001b[0m\u001b[0mc\u001b[0m\u001b[0;34m=\u001b[0m\u001b[0;36m3\u001b[0m\u001b[0;34m)\u001b[0m\u001b[0;34m\u001b[0m\u001b[0;34m\u001b[0m\u001b[0m\n",
            "\u001b[0;31mTypeError\u001b[0m: fn() got an unexpected keyword argument 'd'"
          ]
        }
      ]
    },
    {
      "cell_type": "code",
      "source": [
        "def return_t():\n",
        "  return 100\n",
        "\n",
        "value = return_t()\n",
        "print(value)"
      ],
      "metadata": {
        "colab": {
          "base_uri": "https://localhost:8080/"
        },
        "id": "f6M_NI2rCp2b",
        "outputId": "cad8d12a-0965-45f9-9f8f-5424bf1a829c"
      },
      "execution_count": 39,
      "outputs": [
        {
          "output_type": "stream",
          "name": "stdout",
          "text": [
            "100\n"
          ]
        }
      ]
    },
    {
      "cell_type": "code",
      "source": [
        "def add(a,b):\n",
        "  return a+b\n",
        "\n",
        "value = add(123,1242)\n",
        "print(value)"
      ],
      "metadata": {
        "colab": {
          "base_uri": "https://localhost:8080/"
        },
        "id": "UJyL7d50C3SU",
        "outputId": "48ffaaab-4611-49dc-f156-4278ed1f6204"
      },
      "execution_count": 42,
      "outputs": [
        {
          "output_type": "stream",
          "name": "stdout",
          "text": [
            "1365\n"
          ]
        }
      ]
    },
    {
      "cell_type": "code",
      "source": [
        "def big(a,b):\n",
        "  if a>b:\n",
        "    return a\n",
        "  else:\n",
        "    return b\n",
        "\n",
        "value = big(1234,43)\n",
        "print(value)"
      ],
      "metadata": {
        "colab": {
          "base_uri": "https://localhost:8080/"
        },
        "id": "9IvlriUcDBaa",
        "outputId": "9efe6d38-5375-45da-8a9e-8e7eba369970"
      },
      "execution_count": 43,
      "outputs": [
        {
          "output_type": "stream",
          "name": "stdout",
          "text": [
            "1234\n"
          ]
        }
      ]
    },
    {
      "cell_type": "code",
      "source": [
        "def sm(n):\n",
        "  sum = 0\n",
        "  for i in range(1,n+1):\n",
        "    sum += i\n",
        "  return sum\n",
        "\n",
        "sm(10)"
      ],
      "metadata": {
        "colab": {
          "base_uri": "https://localhost:8080/"
        },
        "id": "50KjbJ21Dgs7",
        "outputId": "ff139494-5785-41b5-b6a1-d2e01b624cd6"
      },
      "execution_count": 45,
      "outputs": [
        {
          "output_type": "execute_result",
          "data": {
            "text/plain": [
              "55"
            ]
          },
          "metadata": {},
          "execution_count": 45
        }
      ]
    },
    {
      "cell_type": "code",
      "source": [
        "def min(*numbers):\n",
        "  min_value = numbers[0]\n",
        "  for n in numbers:\n",
        "    if min_value > n:\n",
        "      min_value = n\n",
        "  return min_value\n",
        "\n",
        "re = min(123,4,4,6,7,8,2,1)\n",
        "print(re)"
      ],
      "metadata": {
        "colab": {
          "base_uri": "https://localhost:8080/"
        },
        "id": "9mtY9qRXDxoq",
        "outputId": "55daaaf9-d840-49a3-f2f4-e4a60aa30599"
      },
      "execution_count": 48,
      "outputs": [
        {
          "output_type": "stream",
          "name": "stdout",
          "text": [
            "1\n"
          ]
        }
      ]
    },
    {
      "cell_type": "code",
      "source": [
        "def mn(num, start, end):\n",
        "  result = []\n",
        "  for n in range(start, end):\n",
        "    if n % num == 0:\n",
        "      result.append(n)\n",
        "  return result\n",
        "\n",
        "m = mn(17, 1, 200)\n",
        "print(m)"
      ],
      "metadata": {
        "colab": {
          "base_uri": "https://localhost:8080/"
        },
        "id": "1bBx3d5rESaa",
        "outputId": "e570f2eb-8537-488f-b67b-e770e47fbc8c"
      },
      "execution_count": 49,
      "outputs": [
        {
          "output_type": "stream",
          "name": "stdout",
          "text": [
            "[17, 34, 51, 68, 85, 102, 119, 136, 153, 170, 187]\n"
          ]
        }
      ]
    },
    {
      "cell_type": "code",
      "source": [
        "def mm(*args):\n",
        "  min = max = args[0]\n",
        "  for arg in args:\n",
        "    if min > arg:\n",
        "      min = arg\n",
        "    if max < arg:\n",
        "      max = arg\n",
        "  return min, max\n",
        "min, max = mm(12,234,67,908,3,-12,4,323,-124,4-2)\n",
        "print(min)\n",
        "print(max)"
      ],
      "metadata": {
        "colab": {
          "base_uri": "https://localhost:8080/"
        },
        "id": "CP2vKIVRFIPy",
        "outputId": "6677b7b5-d303-456b-f7d4-2cb3a85dd8d0"
      },
      "execution_count": 51,
      "outputs": [
        {
          "output_type": "stream",
          "name": "stdout",
          "text": [
            "-124\n",
            "908\n"
          ]
        }
      ]
    },
    {
      "cell_type": "code",
      "source": [
        "import random\n",
        "def pt(number, title, column):\n",
        "  print(title)\n",
        "  students = list(range(1,number+1))\n",
        "  random.shuffle(students)\n",
        "  pos = \"\"\n",
        "  for i in range(0, number):\n",
        "    if students[i] < 10:\n",
        "      pos = pos + \"0\"+str(students[i])+\"번\\t\"\n",
        "    else:\n",
        "      pos = pos + '\\n'\n",
        "  print(pos)\n",
        "pt(20, title = \"3-2반\", column=5)"
      ],
      "metadata": {
        "colab": {
          "base_uri": "https://localhost:8080/"
        },
        "id": "n5EhhaOLF9EZ",
        "outputId": "ccecb8b3-2099-49d9-9ef9-5ed0e4bc242f"
      },
      "execution_count": 55,
      "outputs": [
        {
          "output_type": "stream",
          "name": "stdout",
          "text": [
            "3-2반\n",
            "02번\t07번\t\n",
            "05번\t04번\t09번\t\n",
            "\n",
            "\n",
            "08번\t\n",
            "06번\t\n",
            "\n",
            "\n",
            "01번\t03번\t\n",
            "\n",
            "\n",
            "\n"
          ]
        }
      ]
    },
    {
      "cell_type": "code",
      "source": [
        "def hi():\n",
        "  name = input('이름은?')\n",
        "  print('hi!')\n",
        "  print('My name is', name, '!')\n",
        "print('자기소개를 시작합니다.')\n",
        "hi()\n",
        "print(name, '님 안녕하세요')"
      ],
      "metadata": {
        "colab": {
          "base_uri": "https://localhost:8080/"
        },
        "id": "ndXpCfiSHSRD",
        "outputId": "e681ea76-0ded-450a-e61f-ffcb27924964"
      },
      "execution_count": 56,
      "outputs": [
        {
          "output_type": "stream",
          "name": "stdout",
          "text": [
            "자기소개를 시작합니다.\n",
            "이름은?류동하\n",
            "hi!\n",
            "My name is 류동하 !\n",
            "<function name at 0x79b1944400d0> 님 안녕하세요\n"
          ]
        }
      ]
    },
    {
      "cell_type": "code",
      "source": [
        "def hi():\n",
        "  name = input('이름은?')\n",
        "  print('hi!')\n",
        "  print('My name is', name, '!')\n",
        "  return name\n",
        "print('자기소개를 시작합니다.')\n",
        "person = hi()\n",
        "print(person, '님 안녕하세요.')"
      ],
      "metadata": {
        "colab": {
          "base_uri": "https://localhost:8080/"
        },
        "id": "mFn50aP0ISrE",
        "outputId": "59e8a84e-a564-47c8-b12b-6f7464a18e04"
      },
      "execution_count": 58,
      "outputs": [
        {
          "output_type": "stream",
          "name": "stdout",
          "text": [
            "자기소개를 시작합니다.\n",
            "이름은?fbehdgk\n",
            "hi!\n",
            "My name is fbehdgk !\n",
            "fbehdgk 님 안녕하세요.\n"
          ]
        }
      ]
    },
    {
      "cell_type": "code",
      "source": [
        "def func1():\n",
        "  a += 2\n",
        "  b *= 2\n",
        "  print(a,b)\n",
        "\n",
        "a,b = 5,10\n",
        "func1()"
      ],
      "metadata": {
        "colab": {
          "base_uri": "https://localhost:8080/",
          "height": 349
        },
        "id": "6GB56KeHJHZp",
        "outputId": "ee384fc5-24c1-4351-dbe6-73bd66cd9c8f"
      },
      "execution_count": 59,
      "outputs": [
        {
          "output_type": "error",
          "ename": "UnboundLocalError",
          "evalue": "ignored",
          "traceback": [
            "\u001b[0;31m---------------------------------------------------------------------------\u001b[0m",
            "\u001b[0;31mUnboundLocalError\u001b[0m                         Traceback (most recent call last)",
            "\u001b[0;32m<ipython-input-59-b849fd712db2>\u001b[0m in \u001b[0;36m<cell line: 7>\u001b[0;34m()\u001b[0m\n\u001b[1;32m      5\u001b[0m \u001b[0;34m\u001b[0m\u001b[0m\n\u001b[1;32m      6\u001b[0m \u001b[0ma\u001b[0m\u001b[0;34m,\u001b[0m\u001b[0mb\u001b[0m \u001b[0;34m=\u001b[0m \u001b[0;36m5\u001b[0m\u001b[0;34m,\u001b[0m\u001b[0;36m10\u001b[0m\u001b[0;34m\u001b[0m\u001b[0;34m\u001b[0m\u001b[0m\n\u001b[0;32m----> 7\u001b[0;31m \u001b[0mfunc1\u001b[0m\u001b[0;34m(\u001b[0m\u001b[0;34m)\u001b[0m\u001b[0;34m\u001b[0m\u001b[0;34m\u001b[0m\u001b[0m\n\u001b[0m",
            "\u001b[0;32m<ipython-input-59-b849fd712db2>\u001b[0m in \u001b[0;36mfunc1\u001b[0;34m()\u001b[0m\n\u001b[1;32m      1\u001b[0m \u001b[0;32mdef\u001b[0m \u001b[0mfunc1\u001b[0m\u001b[0;34m(\u001b[0m\u001b[0;34m)\u001b[0m\u001b[0;34m:\u001b[0m\u001b[0;34m\u001b[0m\u001b[0;34m\u001b[0m\u001b[0m\n\u001b[0;32m----> 2\u001b[0;31m   \u001b[0ma\u001b[0m \u001b[0;34m+=\u001b[0m \u001b[0;36m2\u001b[0m\u001b[0;34m\u001b[0m\u001b[0;34m\u001b[0m\u001b[0m\n\u001b[0m\u001b[1;32m      3\u001b[0m   \u001b[0mb\u001b[0m \u001b[0;34m*=\u001b[0m \u001b[0;36m2\u001b[0m\u001b[0;34m\u001b[0m\u001b[0;34m\u001b[0m\u001b[0m\n\u001b[1;32m      4\u001b[0m   \u001b[0mprint\u001b[0m\u001b[0;34m(\u001b[0m\u001b[0ma\u001b[0m\u001b[0;34m,\u001b[0m\u001b[0mb\u001b[0m\u001b[0;34m)\u001b[0m\u001b[0;34m\u001b[0m\u001b[0;34m\u001b[0m\u001b[0m\n\u001b[1;32m      5\u001b[0m \u001b[0;34m\u001b[0m\u001b[0m\n",
            "\u001b[0;31mUnboundLocalError\u001b[0m: local variable 'a' referenced before assignment"
          ]
        }
      ]
    },
    {
      "cell_type": "code",
      "source": [
        "def func1():\n",
        "  #a += 2\n",
        "  #b *= 2\n",
        "  print(a,b)\n",
        "\n",
        "a,b = 5,10\n",
        "func1()"
      ],
      "metadata": {
        "colab": {
          "base_uri": "https://localhost:8080/"
        },
        "id": "dyHy-zNrJsdY",
        "outputId": "b9bf1b2b-ec2e-4c89-c534-907c2a4b68da"
      },
      "execution_count": 61,
      "outputs": [
        {
          "output_type": "stream",
          "name": "stdout",
          "text": [
            "5 10\n"
          ]
        }
      ]
    },
    {
      "cell_type": "code",
      "source": [
        "def func1():\n",
        "  global a,b\n",
        "  a += 2\n",
        "  b *= 2\n",
        "  print(a,b)\n",
        "\n",
        "a,b = 5,10\n",
        "func1()\n",
        "func1()"
      ],
      "metadata": {
        "colab": {
          "base_uri": "https://localhost:8080/"
        },
        "id": "NXfkD28EJxAw",
        "outputId": "1dabce54-3ab8-4ebe-8237-ae551809c9d0"
      },
      "execution_count": 62,
      "outputs": [
        {
          "output_type": "stream",
          "name": "stdout",
          "text": [
            "7 20\n",
            "9 40\n"
          ]
        }
      ]
    },
    {
      "cell_type": "code",
      "source": [
        "def func1():\n",
        "  global a,b\n",
        "  a += 2\n",
        "  b *= 2\n",
        "  print(a,b)\n",
        "\n",
        "a,b = 5,10\n",
        "for i in range(5):\n",
        "  func1()"
      ],
      "metadata": {
        "colab": {
          "base_uri": "https://localhost:8080/"
        },
        "id": "3HhV4uedJ8RB",
        "outputId": "b552d787-5a20-46d1-fe38-83b84fb3a45a"
      },
      "execution_count": 64,
      "outputs": [
        {
          "output_type": "stream",
          "name": "stdout",
          "text": [
            "7 20\n",
            "9 40\n",
            "11 80\n",
            "13 160\n",
            "15 320\n"
          ]
        }
      ]
    },
    {
      "cell_type": "code",
      "source": [
        "def reward_penalty(kind, points):\n",
        "  global current_point\n",
        "\n",
        "  print('현재점수 :', current_point)\n",
        "  if kind == '상점':\n",
        "    current_point += points\n",
        "  elif kind == '벌점':\n",
        "    current_point -= points\n",
        "\n",
        "current_point = 5\n",
        "reward_penalty('상점', 5)\n",
        "print(\"최종점수 :\", current_point)"
      ],
      "metadata": {
        "colab": {
          "base_uri": "https://localhost:8080/"
        },
        "id": "pxH0EStnKCEA",
        "outputId": "781c75a1-6434-4d2d-d7b1-2ba37e51f2f6"
      },
      "execution_count": 67,
      "outputs": [
        {
          "output_type": "stream",
          "name": "stdout",
          "text": [
            "현재점수 : 5\n",
            "최종점수 : 10\n"
          ]
        }
      ]
    },
    {
      "cell_type": "code",
      "source": [
        "#ex1: 파일 열고닫기\n",
        "file = open('basic.txt', 'w')\n",
        "file.write('Hello Python Programming...!')\n",
        "file.close()"
      ],
      "metadata": {
        "id": "MBBUc5iqLz5w"
      },
      "execution_count": 68,
      "outputs": []
    },
    {
      "cell_type": "code",
      "source": [
        "#ex2:파일여닫기\n",
        "with open('basic.txt', 'w') as file:\n",
        "  file.write(\"Hello Python Programming...!!!\")"
      ],
      "metadata": {
        "id": "XrCKdXBYQ6M_"
      },
      "execution_count": 69,
      "outputs": []
    },
    {
      "cell_type": "code",
      "source": [
        "#ex3:read()함수로 텍스트읽기\n",
        "with open('basic.txt', 'r') as file:\n",
        "  con = file.read()\n",
        "print(con)"
      ],
      "metadata": {
        "colab": {
          "base_uri": "https://localhost:8080/"
        },
        "id": "EmIDJwPVRyQu",
        "outputId": "ff76f75e-9a08-4383-db1e-cf05df6064de"
      },
      "execution_count": 70,
      "outputs": [
        {
          "output_type": "stream",
          "name": "stdout",
          "text": [
            "Hello Python Programming...!!!\n"
          ]
        }
      ]
    },
    {
      "cell_type": "code",
      "source": [
        "#랜덤하게 100명의 키 몸무게 만들기\n",
        "\n",
        "import random\n",
        "\n",
        "hg = list('가나다라마바사아자차카타파하')\n",
        "\n",
        "with open('info.txt', 'w') as file:\n",
        "  for i in range(50):\n",
        "    n = random.choice(hg)+random.choice(hg)+random.choice(hg)\n",
        "    m = random.randrange(50,100)\n",
        "    k = random.randrange(150,201)\n",
        "    file.write(\"{},{},{}\\n\".format(n,m,k))\n",
        ""
      ],
      "metadata": {
        "id": "Y16UElKBSQZ-"
      },
      "execution_count": 77,
      "outputs": []
    },
    {
      "cell_type": "code",
      "source": [],
      "metadata": {
        "id": "0CcRz0k6UD92"
      },
      "execution_count": null,
      "outputs": []
    }
  ]
}