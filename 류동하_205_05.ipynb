{
  "nbformat": 4,
  "nbformat_minor": 0,
  "metadata": {
    "colab": {
      "provenance": [],
      "include_colab_link": true
    },
    "kernelspec": {
      "name": "python3",
      "display_name": "Python 3"
    },
    "language_info": {
      "name": "python"
    }
  },
  "cells": [
    {
      "cell_type": "markdown",
      "metadata": {
        "id": "view-in-github",
        "colab_type": "text"
      },
      "source": [
        "<a href=\"https://colab.research.google.com/github/dongdongdongha/cu/blob/main/%EB%A5%98%EB%8F%99%ED%95%98_205_05.ipynb\" target=\"_parent\"><img src=\"https://colab.research.google.com/assets/colab-badge.svg\" alt=\"Open In Colab\"/></a>"
      ]
    },
    {
      "cell_type": "code",
      "execution_count": null,
      "metadata": {
        "colab": {
          "base_uri": "https://localhost:8080/"
        },
        "id": "c3ZfuQet3LK3",
        "outputId": "18696dbb-a7b4-44dc-b0d0-f27523615bf5"
      },
      "outputs": [
        {
          "output_type": "stream",
          "name": "stdout",
          "text": [
            "0.1727513571754139\n",
            "5\n",
            "6\n",
            "30\n"
          ]
        }
      ],
      "source": [
        "import random\n",
        "print(random.random())\n",
        "print(random.randrange(1, 7))\n",
        "print(random.randint(1,6))\n",
        "print(random.choice([10, 20, 30]))"
      ]
    },
    {
      "cell_type": "code",
      "source": [
        "import random\n",
        "\n",
        "a = random.randint(1, 24)\n",
        "f = random.choice([1,0])\n",
        "\n",
        "if f == 1:\n",
        "  print(\"현재 날씨가 화창합니다\")\n",
        "else:\n",
        "  print(\"현재 날씨가 화창하지 않습니다.\")\n",
        "\n",
        "print(\"좋은 아침입니다. 지금 시각은\", a, \"시입니다.\")\n",
        "if 6 <= a <= 8:\n",
        "  print(\"종달새가 노래합니다.\")\n",
        "else:\n",
        "  print(\"종달새가 노래하지 않는다.\")"
      ],
      "metadata": {
        "colab": {
          "base_uri": "https://localhost:8080/"
        },
        "id": "e5Y3zQE04Ftv",
        "outputId": "c5c18d68-b664-42b5-ac09-a5a40140e34b"
      },
      "execution_count": null,
      "outputs": [
        {
          "output_type": "stream",
          "name": "stdout",
          "text": [
            "현재 날씨가 화창합니다\n",
            "좋은 아침입니다. 지금 시각은 4 시입니다.\n",
            "종달새가 노래하지 않는다.\n"
          ]
        }
      ]
    },
    {
      "cell_type": "code",
      "source": [
        "x = 0\n",
        "while x < 3:\n",
        "  print(\"안녕하세요\")\n",
        "  x += 1"
      ],
      "metadata": {
        "colab": {
          "base_uri": "https://localhost:8080/"
        },
        "id": "17m-6-B-5Uqa",
        "outputId": "23a23e74-a248-40c3-a436-73c24e679fcc"
      },
      "execution_count": null,
      "outputs": [
        {
          "output_type": "stream",
          "name": "stdout",
          "text": [
            "안녕하세요\n",
            "안녕하세요\n",
            "안녕하세요\n"
          ]
        }
      ]
    },
    {
      "cell_type": "code",
      "source": [
        "st = 1\n",
        "while st <= 3:\n",
        "  print(st, \"번 학생의 성적을 처리한다.\")\n",
        "  st += 1"
      ],
      "metadata": {
        "colab": {
          "base_uri": "https://localhost:8080/"
        },
        "id": "rpna7oSJByrB",
        "outputId": "9838af83-68c4-4f94-ba9b-b5d10034a946"
      },
      "execution_count": null,
      "outputs": [
        {
          "output_type": "stream",
          "name": "stdout",
          "text": [
            "1 번 학생의 성적을 처리한다.\n",
            "2 번 학생의 성적을 처리한다.\n",
            "3 번 학생의 성적을 처리한다.\n"
          ]
        }
      ]
    },
    {
      "cell_type": "code",
      "source": [
        "a = 1\n",
        "while a <= 9:\n",
        "  print(\"3 *\", a,\"=\", 3*a)\n",
        "  a += 1"
      ],
      "metadata": {
        "colab": {
          "base_uri": "https://localhost:8080/"
        },
        "id": "KVhq5FTUCDL7",
        "outputId": "73fe6eb9-787c-4b5e-a17d-d839a0f43537"
      },
      "execution_count": null,
      "outputs": [
        {
          "output_type": "stream",
          "name": "stdout",
          "text": [
            "3 * 1 = 3\n",
            "3 * 2 = 6\n",
            "3 * 3 = 9\n",
            "3 * 4 = 12\n",
            "3 * 5 = 15\n",
            "3 * 6 = 18\n",
            "3 * 7 = 21\n",
            "3 * 8 = 24\n",
            "3 * 9 = 27\n"
          ]
        }
      ]
    },
    {
      "cell_type": "code",
      "source": [
        "num = 1\n",
        "sum = 0\n",
        "while num <= 10:\n",
        "  sum += num\n",
        "  print(\"num값 : %d => 합계 : %d\" %(num, sum))\n",
        "  num += 1"
      ],
      "metadata": {
        "colab": {
          "base_uri": "https://localhost:8080/"
        },
        "id": "dTCdJjV6CZOI",
        "outputId": "37948f6b-8271-48ad-84c1-dbee1de88965"
      },
      "execution_count": null,
      "outputs": [
        {
          "output_type": "stream",
          "name": "stdout",
          "text": [
            "num값 : 1 => 합계 : 1\n",
            "num값 : 2 => 합계 : 3\n",
            "num값 : 3 => 합계 : 6\n",
            "num값 : 4 => 합계 : 10\n",
            "num값 : 5 => 합계 : 15\n",
            "num값 : 6 => 합계 : 21\n",
            "num값 : 7 => 합계 : 28\n",
            "num값 : 8 => 합계 : 36\n",
            "num값 : 9 => 합계 : 45\n",
            "num값 : 10 => 합계 : 55\n"
          ]
        }
      ]
    },
    {
      "cell_type": "code",
      "source": [
        "a = 150\n",
        "s = 0\n",
        "\n",
        "while a <= 300:\n",
        "  if a % 2 == 1:\n",
        "    s += a\n",
        "    a += 1\n",
        "  else:\n",
        "    a += 1\n",
        "print(s)"
      ],
      "metadata": {
        "colab": {
          "base_uri": "https://localhost:8080/"
        },
        "id": "g8eYdtr4DTB0",
        "outputId": "41419e9b-8834-4fcc-ea86-cc93cf8a47e3"
      },
      "execution_count": null,
      "outputs": [
        {
          "output_type": "stream",
          "name": "stdout",
          "text": [
            "16875\n"
          ]
        }
      ]
    },
    {
      "cell_type": "code",
      "source": [
        "a = -5\n",
        "s = 0\n",
        "\n",
        "while a < 6:\n",
        "  s = a * (9.0/5.0) + 32.0\n",
        "  print(a,\"\\t\",s)\n",
        "  a += 1"
      ],
      "metadata": {
        "colab": {
          "base_uri": "https://localhost:8080/"
        },
        "id": "Y4Od5EbbEFV1",
        "outputId": "fa24ca86-b0c6-42c3-b7fd-c02275dce71a"
      },
      "execution_count": null,
      "outputs": [
        {
          "output_type": "stream",
          "name": "stdout",
          "text": [
            "-5 \t 23.0\n",
            "-4 \t 24.8\n",
            "-3 \t 26.6\n",
            "-2 \t 28.4\n",
            "-1 \t 30.2\n",
            "0 \t 32.0\n",
            "1 \t 33.8\n",
            "2 \t 35.6\n",
            "3 \t 37.4\n",
            "4 \t 39.2\n",
            "5 \t 41.0\n"
          ]
        }
      ]
    },
    {
      "cell_type": "code",
      "source": [
        "n = 10\n",
        "s = 1\n",
        "\n",
        "while n > 0:\n",
        "  s *= n\n",
        "  n -= 1\n",
        "print(\"10! =\", s)"
      ],
      "metadata": {
        "colab": {
          "base_uri": "https://localhost:8080/"
        },
        "id": "6j3MTLfnGaOT",
        "outputId": "71617ca9-a03a-469c-f496-784f6358d937"
      },
      "execution_count": null,
      "outputs": [
        {
          "output_type": "stream",
          "name": "stdout",
          "text": [
            "10! = 3628800\n"
          ]
        }
      ]
    },
    {
      "cell_type": "code",
      "source": [
        "a = 1\n",
        "\n",
        "while a <= 20:\n",
        "  if a % 2 == 0:\n",
        "    print(a, end = ' ')\n",
        "  a += 1"
      ],
      "metadata": {
        "colab": {
          "base_uri": "https://localhost:8080/"
        },
        "id": "hTS-8fa4Ggbz",
        "outputId": "fd8f5ee3-4690-434e-f809-6c0ab6e6b80d"
      },
      "execution_count": null,
      "outputs": [
        {
          "output_type": "stream",
          "name": "stdout",
          "text": [
            "2 4 6 8 10 12 14 16 18 20 "
          ]
        }
      ]
    },
    {
      "cell_type": "code",
      "source": [
        "a = 10\n",
        "\n",
        "while a <= 50:\n",
        "  if a % 3 != 0:\n",
        "    print(a, end = ' ')\n",
        "  a += 1"
      ],
      "metadata": {
        "colab": {
          "base_uri": "https://localhost:8080/"
        },
        "id": "EajpfSKiHO6V",
        "outputId": "4d9ed306-f4af-4ad3-ae8a-59ec80fe372b"
      },
      "execution_count": null,
      "outputs": [
        {
          "output_type": "stream",
          "name": "stdout",
          "text": [
            "10 11 13 14 16 17 19 20 22 23 25 26 28 29 31 32 34 35 37 38 40 41 43 44 46 47 49 50 "
          ]
        }
      ]
    },
    {
      "cell_type": "code",
      "source": [
        "while 1 : \n",
        "  a = input(\"암호 입력 : \")\n",
        "  if a == 'python':\n",
        "    print(\"로그인 성공\")\n",
        "    break"
      ],
      "metadata": {
        "colab": {
          "base_uri": "https://localhost:8080/"
        },
        "id": "60p9QwuqJLAG",
        "outputId": "fe5f68e2-a2e7-4098-a835-fda1d0a0cddc"
      },
      "execution_count": null,
      "outputs": [
        {
          "output_type": "stream",
          "name": "stdout",
          "text": [
            "암호 입력 : asd\n",
            "암호 입력 : sfgs\n",
            "암호 입력 : java\n",
            "암호 입력 : python\n",
            "로그인 성공\n"
          ]
        }
      ]
    },
    {
      "cell_type": "code",
      "source": [
        "from os import sep\n",
        "import random\n",
        "\n",
        "a = random.randint(1, 100)\n",
        "d = 0\n",
        "while 1:\n",
        "  s = int(input('숫자 맞춰보세요 : '))\n",
        "  if a == s:\n",
        "    print(\"정답\")\n",
        "    break\n",
        "  elif a > s:\n",
        "    print(\"작다\")\n",
        "  else:\n",
        "    print(\"크다\")\n",
        "  d += 1\n",
        "print(d,\"회 도전\", sep = '')"
      ],
      "metadata": {
        "colab": {
          "base_uri": "https://localhost:8080/"
        },
        "id": "F8GTMOFAL_j1",
        "outputId": "4575d2f0-d620-4736-95ad-0a2e88c9994a"
      },
      "execution_count": null,
      "outputs": [
        {
          "output_type": "stream",
          "name": "stdout",
          "text": [
            "숫자 맞춰보세요 : 50\n",
            "크다\n",
            "숫자 맞춰보세요 : 30\n",
            "크다\n",
            "숫자 맞춰보세요 : 10\n",
            "크다\n",
            "숫자 맞춰보세요 : 4\n",
            "작다\n",
            "숫자 맞춰보세요 : 9\n",
            "크다\n",
            "숫자 맞춰보세요 : 6\n",
            "정답\n",
            "5회 도전\n"
          ]
        }
      ]
    },
    {
      "cell_type": "code",
      "source": [
        "for i in[1,2,3]:\n",
        "  print('안녕하세요')"
      ],
      "metadata": {
        "colab": {
          "base_uri": "https://localhost:8080/"
        },
        "id": "6dwIJvIYMTUB",
        "outputId": "ea13cf57-3384-477b-db7f-05de188ac94d"
      },
      "execution_count": null,
      "outputs": [
        {
          "output_type": "stream",
          "name": "stdout",
          "text": [
            "안녕하세요\n",
            "안녕하세요\n",
            "안녕하세요\n"
          ]
        }
      ]
    },
    {
      "cell_type": "code",
      "source": [
        "for i in range(10):\n",
        "  print(i,end = ' ')"
      ],
      "metadata": {
        "colab": {
          "base_uri": "https://localhost:8080/"
        },
        "id": "g35xGikdOzaX",
        "outputId": "55fc132a-9dda-498d-afbe-6ceb1a9ee713"
      },
      "execution_count": null,
      "outputs": [
        {
          "output_type": "stream",
          "name": "stdout",
          "text": [
            "0 1 2 3 4 5 6 7 8 9 "
          ]
        }
      ]
    },
    {
      "cell_type": "code",
      "source": [
        "for i in range(1,10,2):\n",
        "  print(i, end = ' ')"
      ],
      "metadata": {
        "colab": {
          "base_uri": "https://localhost:8080/"
        },
        "id": "TSnugle5PCbW",
        "outputId": "a9da7e53-2dbe-468f-e0f8-ac3032170c0e"
      },
      "execution_count": null,
      "outputs": [
        {
          "output_type": "stream",
          "name": "stdout",
          "text": [
            "1 3 5 7 9 "
          ]
        }
      ]
    },
    {
      "cell_type": "code",
      "source": [
        "for i in range(1,11):\n",
        "  print(i,end = ' ')"
      ],
      "metadata": {
        "colab": {
          "base_uri": "https://localhost:8080/"
        },
        "id": "EDbaTSJRPOMA",
        "outputId": "4ee62ca6-a531-47f0-93a3-6478eb697dba"
      },
      "execution_count": null,
      "outputs": [
        {
          "output_type": "stream",
          "name": "stdout",
          "text": [
            "1 2 3 4 5 6 7 8 9 10 "
          ]
        }
      ]
    },
    {
      "cell_type": "code",
      "source": [
        "for i in range(20, 0, -2):\n",
        "  print(i,end = ' ')"
      ],
      "metadata": {
        "colab": {
          "base_uri": "https://localhost:8080/"
        },
        "id": "xF30GZ5OPbeI",
        "outputId": "b59d42f7-e541-4580-ede8-b671ac792dc7"
      },
      "execution_count": null,
      "outputs": [
        {
          "output_type": "stream",
          "name": "stdout",
          "text": [
            "20 18 16 14 12 10 8 6 4 2 "
          ]
        }
      ]
    },
    {
      "cell_type": "code",
      "source": [
        "for i in range(0,3):\n",
        "  print('안녕하세요')"
      ],
      "metadata": {
        "colab": {
          "base_uri": "https://localhost:8080/"
        },
        "id": "lQqzWpvZPhod",
        "outputId": "60977eff-725d-428f-8733-a9a07090f619"
      },
      "execution_count": null,
      "outputs": [
        {
          "output_type": "stream",
          "name": "stdout",
          "text": [
            "안녕하세요\n",
            "안녕하세요\n",
            "안녕하세요\n"
          ]
        }
      ]
    },
    {
      "cell_type": "code",
      "source": [
        "a = 10\n",
        "for num in range(1,5,2):\n",
        "  a += num\n",
        "print(a)"
      ],
      "metadata": {
        "colab": {
          "base_uri": "https://localhost:8080/"
        },
        "id": "oA7wtP10P0UB",
        "outputId": "64304fc5-8c90-4b39-9371-0f7ee837dfc6"
      },
      "execution_count": null,
      "outputs": [
        {
          "output_type": "stream",
          "name": "stdout",
          "text": [
            "14\n"
          ]
        }
      ]
    },
    {
      "cell_type": "code",
      "source": [],
      "metadata": {
        "id": "sMkc3QFtQQtu"
      },
      "execution_count": null,
      "outputs": []
    }
  ]
}