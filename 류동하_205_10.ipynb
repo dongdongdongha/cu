{
  "nbformat": 4,
  "nbformat_minor": 0,
  "metadata": {
    "colab": {
      "provenance": [],
      "include_colab_link": true
    },
    "kernelspec": {
      "name": "python3",
      "display_name": "Python 3"
    },
    "language_info": {
      "name": "python"
    }
  },
  "cells": [
    {
      "cell_type": "markdown",
      "metadata": {
        "id": "view-in-github",
        "colab_type": "text"
      },
      "source": [
        "<a href=\"https://colab.research.google.com/github/dongdongdongha/cu/blob/main/%EB%A5%98%EB%8F%99%ED%95%98_205_10.ipynb\" target=\"_parent\"><img src=\"https://colab.research.google.com/assets/colab-badge.svg\" alt=\"Open In Colab\"/></a>"
      ]
    },
    {
      "cell_type": "code",
      "execution_count": 1,
      "metadata": {
        "id": "N0UsZDvSLpyK",
        "colab": {
          "base_uri": "https://localhost:8080/"
        },
        "outputId": "2fe7238e-6727-4ecf-c505-591e68112eb3"
      },
      "outputs": [
        {
          "output_type": "stream",
          "name": "stdout",
          "text": [
            "p\n",
            "n\n"
          ]
        }
      ],
      "source": [
        "s = \"python\"\n",
        "print(s[0])\n",
        "print(s[-1])"
      ]
    },
    {
      "cell_type": "code",
      "source": [
        "s = \"python\"\n",
        "print(s[1])"
      ],
      "metadata": {
        "colab": {
          "base_uri": "https://localhost:8080/"
        },
        "id": "oAyfF66ifMux",
        "outputId": "947c8e5a-4385-4821-9e64-bb0890ccdd57"
      },
      "execution_count": 3,
      "outputs": [
        {
          "output_type": "stream",
          "name": "stdout",
          "text": [
            "y\n"
          ]
        }
      ]
    },
    {
      "cell_type": "code",
      "source": [
        "a = input(\"첫번째 문자열 : \")\n",
        "b = input(\"두번째 문자열 : \")\n",
        "c = input(\"세번째 문자열 : \")\n",
        "\n",
        "if a[-1] == b[0] and b[-1] == c[0]:\n",
        "  print(\"good\")\n",
        "else:\n",
        "  print(\"bad\")"
      ],
      "metadata": {
        "colab": {
          "base_uri": "https://localhost:8080/"
        },
        "id": "kc5wUbwJfW3Q",
        "outputId": "ed39c11e-a6fc-4736-c921-3cf2867da6de"
      },
      "execution_count": 10,
      "outputs": [
        {
          "output_type": "stream",
          "name": "stdout",
          "text": [
            "첫번째 문자열 : apple\n",
            "두번째 문자열 : egg\n",
            "세번째 문자열 : game\n",
            "good\n"
          ]
        }
      ]
    },
    {
      "cell_type": "code",
      "source": [
        "s = \"python\"\n",
        "for c in s:\n",
        "  print(c, end=',')"
      ],
      "metadata": {
        "colab": {
          "base_uri": "https://localhost:8080/"
        },
        "id": "6otQr0kfg5T0",
        "outputId": "2b4de6b6-b021-4304-c0a3-0dafe82c3a84"
      },
      "execution_count": 12,
      "outputs": [
        {
          "output_type": "stream",
          "name": "stdout",
          "text": [
            "p,y,t,h,o,n,"
          ]
        }
      ]
    },
    {
      "cell_type": "code",
      "source": [
        "n = input('하이픈(-)을 포함한 휴대번호를 입력하세요 : ')\n",
        "for s in n:\n",
        "  if s != '-':\n",
        "    print(s, end='')"
      ],
      "metadata": {
        "colab": {
          "base_uri": "https://localhost:8080/"
        },
        "id": "Xta8WcJTiFJw",
        "outputId": "f0d608b3-68e9-427d-a5e1-74b5c5678380"
      },
      "execution_count": 15,
      "outputs": [
        {
          "output_type": "stream",
          "name": "stdout",
          "text": [
            "하이픈(-)을 포함한 휴대번호를 입력하세요 : 010-3117-9664\n",
            "01031179664"
          ]
        }
      ]
    },
    {
      "cell_type": "code",
      "source": [
        "s = \"python\"\n",
        "print(len(s))\n",
        "n = \"여섯글자이다\"\n",
        "print(len(n))"
      ],
      "metadata": {
        "colab": {
          "base_uri": "https://localhost:8080/"
        },
        "id": "0CYnm340jRcv",
        "outputId": "963a6e15-c738-4c46-f057-a184ffc918bb"
      },
      "execution_count": 16,
      "outputs": [
        {
          "output_type": "stream",
          "name": "stdout",
          "text": [
            "6\n",
            "6\n"
          ]
        }
      ]
    },
    {
      "cell_type": "code",
      "source": [
        "s = input(\"문자열 입력:\")\n",
        "\n",
        "for i in range(len(s)):\n",
        "  if s[i] == 't':\n",
        "    print(i+1, end = ' ')"
      ],
      "metadata": {
        "colab": {
          "base_uri": "https://localhost:8080/"
        },
        "id": "U6aLeejukDqg",
        "outputId": "656c6874-85dd-4d07-e0b7-49236a813041"
      },
      "execution_count": 23,
      "outputs": [
        {
          "output_type": "stream",
          "name": "stdout",
          "text": [
            "문자열 입력:test\n",
            "1 4 "
          ]
        }
      ]
    },
    {
      "cell_type": "code",
      "source": [
        "s = input(\"문장을 입력해주세요 :\")\n",
        "i = len(s)\n",
        "while i >= 0:\n",
        "  if s[i-1] == ' ':\n",
        "    print(\"-\", end = '')\n",
        "  else:\n",
        "    print(s[i-1], end='')\n",
        "  i -= 1"
      ],
      "metadata": {
        "colab": {
          "base_uri": "https://localhost:8080/"
        },
        "id": "aHY0f8RCkwap",
        "outputId": "0d7294fe-14c0-4b05-a5ef-088e8377cf82"
      },
      "execution_count": 28,
      "outputs": [
        {
          "output_type": "stream",
          "name": "stdout",
          "text": [
            "문장을 입력해주세요 :dhsdf gg a\n",
            "a-gg-fdshda"
          ]
        }
      ]
    },
    {
      "cell_type": "code",
      "source": [
        "a = input(\"문자열 입력 : \")\n",
        "\n",
        "for i in range(len(a)-1):\n",
        "  print(a[i], a[i+1], sep='')"
      ],
      "metadata": {
        "colab": {
          "base_uri": "https://localhost:8080/"
        },
        "id": "yJLXNXvNmasV",
        "outputId": "ee5ed36a-0c0b-4986-c9c9-0ddc41d0e070"
      },
      "execution_count": 31,
      "outputs": [
        {
          "output_type": "stream",
          "name": "stdout",
          "text": [
            "문자열 입력 : python\n",
            "py\n",
            "yt\n",
            "th\n",
            "ho\n",
            "on\n"
          ]
        }
      ]
    },
    {
      "cell_type": "code",
      "source": [
        "s = \"python\"\n",
        "print(s[2:5])\n",
        "print(s[3:6])\n",
        "print(s[0:4])\n",
        "print(s[2:4])\n",
        "print(s[4:6])"
      ],
      "metadata": {
        "colab": {
          "base_uri": "https://localhost:8080/"
        },
        "id": "Uk0eLEXWnxlS",
        "outputId": "058caa00-a2ee-4d8f-a779-5a83fa10f537"
      },
      "execution_count": 33,
      "outputs": [
        {
          "output_type": "stream",
          "name": "stdout",
          "text": [
            "tho\n",
            "hon\n",
            "pyth\n",
            "th\n",
            "on\n"
          ]
        }
      ]
    },
    {
      "cell_type": "code",
      "source": [
        "s = \"차종: 코란도C, 제조사:쌍용, 배기량: 1998\"\n",
        "print(s[14:16])"
      ],
      "metadata": {
        "colab": {
          "base_uri": "https://localhost:8080/"
        },
        "id": "-pfyV1Hgoarw",
        "outputId": "250249c0-e368-4c8f-9888-6614529d21eb"
      },
      "execution_count": 35,
      "outputs": [
        {
          "output_type": "stream",
          "name": "stdout",
          "text": [
            "쌍용\n"
          ]
        }
      ]
    },
    {
      "cell_type": "code",
      "source": [
        "a = \"20210505-104830.jpg\"\n",
        "print(\"촬영 날짜 : \"+a[4:6]+\"월\"+a[6:8]+\"일\")\n",
        "print(\"촬영 시간 : \"+a[9:11]+\"시\"+a[11:13]+\"분\")\n",
        "print(\"확장자 : \"+a[16:19])"
      ],
      "metadata": {
        "colab": {
          "base_uri": "https://localhost:8080/"
        },
        "id": "ErRTbCYfrUNk",
        "outputId": "2926b273-ce9e-4942-b223-547b58a7ec20"
      },
      "execution_count": 37,
      "outputs": [
        {
          "output_type": "stream",
          "name": "stdout",
          "text": [
            "촬영 날짜 : 05월05일\n",
            "촬영 시간 : 10시48분\n",
            "확장자 : jpg\n"
          ]
        }
      ]
    },
    {
      "cell_type": "code",
      "source": [
        "a = \"월화수목금토일\"\n",
        "print(a[::2])\n",
        "print(a[-1:-8:-1])"
      ],
      "metadata": {
        "colab": {
          "base_uri": "https://localhost:8080/"
        },
        "id": "7qkutUqetlxp",
        "outputId": "23d5959c-f5ad-4679-f7f2-f5acb8afcc84"
      },
      "execution_count": 48,
      "outputs": [
        {
          "output_type": "stream",
          "name": "stdout",
          "text": [
            "월수금일\n",
            "일토금목수화월\n"
          ]
        }
      ]
    },
    {
      "cell_type": "code",
      "source": [
        "jumin = \"901231-1914983\"\n",
        "year = jumin[0:2]\n",
        "if jumin[7] == 2:\n",
        "  gender = \"여자\"\n",
        "else:\n",
        "  gender = \"남자\"\n",
        "print(\"{}년생 {}입니다.\".format(year, gender))"
      ],
      "metadata": {
        "colab": {
          "base_uri": "https://localhost:8080/"
        },
        "id": "XfwRVm-VuwHU",
        "outputId": "da9c2bf8-0ada-4579-85cb-b0537f2b1df6"
      },
      "execution_count": 46,
      "outputs": [
        {
          "output_type": "stream",
          "name": "stdout",
          "text": [
            "90년생 남자입니다.\n"
          ]
        }
      ]
    },
    {
      "cell_type": "code",
      "source": [
        "a = 'a:b:c:d'\n",
        "print(a.split(':'))"
      ],
      "metadata": {
        "colab": {
          "base_uri": "https://localhost:8080/"
        },
        "id": "_0ajGR6iw7Us",
        "outputId": "415f3956-269e-462c-ecdb-6d7aa3171fcb"
      },
      "execution_count": 49,
      "outputs": [
        {
          "output_type": "stream",
          "name": "stdout",
          "text": [
            "['a', 'b', 'c', 'd']\n"
          ]
        }
      ]
    },
    {
      "cell_type": "code",
      "source": [
        "print(','.join('abcd'))\n",
        "print(','.join([\"1\",\"2\",\"3\"]))"
      ],
      "metadata": {
        "colab": {
          "base_uri": "https://localhost:8080/"
        },
        "id": "_5dU2s_41kqi",
        "outputId": "9581b86c-9609-4401-cd26-53344e3a859c"
      },
      "execution_count": 50,
      "outputs": [
        {
          "output_type": "stream",
          "name": "stdout",
          "text": [
            "a,b,c,d\n",
            "1,2,3\n"
          ]
        }
      ]
    },
    {
      "cell_type": "code",
      "source": [],
      "metadata": {
        "id": "4dnT2j4v10hL"
      },
      "execution_count": null,
      "outputs": []
    }
  ]
}