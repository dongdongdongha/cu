{
  "nbformat": 4,
  "nbformat_minor": 0,
  "metadata": {
    "colab": {
      "provenance": [],
      "include_colab_link": true
    },
    "kernelspec": {
      "name": "python3",
      "display_name": "Python 3"
    },
    "language_info": {
      "name": "python"
    }
  },
  "cells": [
    {
      "cell_type": "markdown",
      "metadata": {
        "id": "view-in-github",
        "colab_type": "text"
      },
      "source": [
        "<a href=\"https://colab.research.google.com/github/dongdongdongha/cu/blob/main/%EB%A5%98%EB%8F%99%ED%95%98_205_02.ipynb\" target=\"_parent\"><img src=\"https://colab.research.google.com/assets/colab-badge.svg\" alt=\"Open In Colab\"/></a>"
      ]
    },
    {
      "cell_type": "code",
      "execution_count": 2,
      "metadata": {
        "colab": {
          "base_uri": "https://localhost:8080/"
        },
        "id": "Bm2cXqeGsF_3",
        "outputId": "048975d9-9ea6-44df-a035-7edf5967b60d"
      },
      "outputs": [
        {
          "output_type": "stream",
          "name": "stdout",
          "text": [
            "몇살이세요?15\n",
            "30\n"
          ]
        }
      ],
      "source": [
        "age = int(input(\"몇살이세요?\"))\n",
        "print(age + age)"
      ]
    },
    {
      "cell_type": "code",
      "source": [
        "price = input('가격을 입력하세요 : ')\n",
        "num = input('개수를 입력하세요 : ')\n",
        "sum = int(price) * int(num) \n",
        "print('총액은', sum, '원입니다.')"
      ],
      "metadata": {
        "colab": {
          "base_uri": "https://localhost:8080/"
        },
        "id": "YHTZrPVptDII",
        "outputId": "38cdfe92-66d6-41b3-acd8-4516b2a49434"
      },
      "execution_count": 7,
      "outputs": [
        {
          "output_type": "stream",
          "name": "stdout",
          "text": [
            "가격을 입력하세요 : 12\n",
            "개수를 입력하세요 : 4243\n",
            "총액은 50916 원입니다.\n"
          ]
        }
      ]
    },
    {
      "cell_type": "code",
      "source": [
        "price = int(input('가격을 입력하세요 : '))\n",
        "num = int(input('개수를 입력하세요 : '))\n",
        "sum = price * num \n",
        "print('총액은', sum, '원입니다.')"
      ],
      "metadata": {
        "colab": {
          "base_uri": "https://localhost:8080/"
        },
        "id": "GQCQe-68uI95",
        "outputId": "351b81ef-846a-4825-da1e-f93e518c65c9"
      },
      "execution_count": 8,
      "outputs": [
        {
          "output_type": "stream",
          "name": "stdout",
          "text": [
            "가격을 입력하세요 : 777\n",
            "개수를 입력하세요 : 65\n",
            "총액은 50505 원입니다.\n"
          ]
        }
      ]
    },
    {
      "cell_type": "code",
      "source": [
        "width = int(input('가로 : '))\n",
        "high = int(input('세로 : '))\n",
        "print('사각형의 면적은', width*high, '입니다')"
      ],
      "metadata": {
        "colab": {
          "base_uri": "https://localhost:8080/"
        },
        "id": "MxK-6SKRwbxf",
        "outputId": "f3cd26c0-3baf-4769-da7f-17a31f01c4f3"
      },
      "execution_count": 11,
      "outputs": [
        {
          "output_type": "stream",
          "name": "stdout",
          "text": [
            "가로 : 11\n",
            "세로 : 11\n",
            "사각형의 면적은 121 입니다\n"
          ]
        }
      ]
    },
    {
      "cell_type": "code",
      "source": [
        "nm = input('이름?')\n",
        "sus = int(input('태어난 해는?'))\n",
        "yy = 2023 - sus + 1\n",
        "print(nm, '님의 나이는', yy,'세 입니다.')"
      ],
      "metadata": {
        "colab": {
          "base_uri": "https://localhost:8080/"
        },
        "id": "-aLgqAiXyc6Y",
        "outputId": "9260ecfb-dc8d-4665-92be-daf780767d16"
      },
      "execution_count": 12,
      "outputs": [
        {
          "output_type": "stream",
          "name": "stdout",
          "text": [
            "이름?동하\n",
            "태어난 해는?2006\n",
            "동하 님의 나이는 18 세 입니다.\n"
          ]
        }
      ]
    },
    {
      "cell_type": "code",
      "source": [
        "rkrur = int(input('가격?'))\n",
        "rotn = int(input('개수?'))\n",
        "ehs = int(input('지불액?'))\n",
        "print('거스름돈은', ehs-(rkrur*rotn), '원입니다.')"
      ],
      "metadata": {
        "colab": {
          "base_uri": "https://localhost:8080/"
        },
        "id": "JG15fLhVzPhY",
        "outputId": "87fc49da-aec5-4645-bc6d-5ce0c4e423fa"
      },
      "execution_count": 13,
      "outputs": [
        {
          "output_type": "stream",
          "name": "stdout",
          "text": [
            "가격?500\n",
            "개수?4\n",
            "지불액?5000\n",
            "거스름돈은 3000 원입니다.\n"
          ]
        }
      ]
    },
    {
      "cell_type": "code",
      "source": [
        "score = 100\n",
        "print(score)\n",
        "print(type(score))"
      ],
      "metadata": {
        "colab": {
          "base_uri": "https://localhost:8080/"
        },
        "id": "BZ7Ofy69z3CR",
        "outputId": "2dac7455-5464-4066-d76b-8180e205a24c"
      },
      "execution_count": 14,
      "outputs": [
        {
          "output_type": "stream",
          "name": "stdout",
          "text": [
            "100\n",
            "<class 'int'>\n"
          ]
        }
      ]
    },
    {
      "cell_type": "code",
      "source": [
        "score = 'high'\n",
        "print(score)\n",
        "print(type(score))"
      ],
      "metadata": {
        "colab": {
          "base_uri": "https://localhost:8080/"
        },
        "id": "BYyes-ds3vw2",
        "outputId": "0694c48b-6ea9-4e40-90e1-e5fa9317dba8"
      },
      "execution_count": 15,
      "outputs": [
        {
          "output_type": "stream",
          "name": "stdout",
          "text": [
            "high\n",
            "<class 'str'>\n"
          ]
        }
      ]
    },
    {
      "cell_type": "code",
      "source": [
        "print(type(3))\n",
        "print(type('df'))\n",
        "print(type(2.34))"
      ],
      "metadata": {
        "colab": {
          "base_uri": "https://localhost:8080/"
        },
        "id": "aGpxgn5r382N",
        "outputId": "d523d853-0c9e-4393-9d4f-d56ae1cb5dbd"
      },
      "execution_count": 16,
      "outputs": [
        {
          "output_type": "stream",
          "name": "stdout",
          "text": [
            "<class 'int'>\n",
            "<class 'str'>\n",
            "<class 'float'>\n"
          ]
        }
      ]
    },
    {
      "cell_type": "code",
      "source": [
        "num = 123456789\n",
        "print(num)\n",
        "print(type(num))"
      ],
      "metadata": {
        "colab": {
          "base_uri": "https://localhost:8080/"
        },
        "id": "DW6saSrt4eLV",
        "outputId": "5f409856-dd65-42ce-836f-23e6ef687d27"
      },
      "execution_count": 17,
      "outputs": [
        {
          "output_type": "stream",
          "name": "stdout",
          "text": [
            "123456789\n",
            "<class 'int'>\n"
          ]
        }
      ]
    },
    {
      "cell_type": "code",
      "source": [
        "num = -20909\n",
        "print(num)\n",
        "print(type(num))"
      ],
      "metadata": {
        "colab": {
          "base_uri": "https://localhost:8080/"
        },
        "id": "2cITri7I6Gyu",
        "outputId": "b1f62953-2e0f-4dab-9e7d-47f4b8b2d0d8"
      },
      "execution_count": 18,
      "outputs": [
        {
          "output_type": "stream",
          "name": "stdout",
          "text": [
            "-20909\n",
            "<class 'int'>\n"
          ]
        }
      ]
    },
    {
      "cell_type": "code",
      "source": [
        "a = 1.5\n",
        "b = -3.5\n",
        "print(a, b)\n",
        "print(type(a), type(b))"
      ],
      "metadata": {
        "colab": {
          "base_uri": "https://localhost:8080/"
        },
        "id": "OZyjovZY6RRl",
        "outputId": "efcffcf3-a518-4733-882a-c8f4746037e7"
      },
      "execution_count": 19,
      "outputs": [
        {
          "output_type": "stream",
          "name": "stdout",
          "text": [
            "1.5 -3.5\n",
            "<class 'float'> <class 'float'>\n"
          ]
        }
      ]
    },
    {
      "cell_type": "code",
      "source": [
        "x = 3.3764\n",
        "y = 6/2\n",
        "print(x, y)\n",
        "print(type(x), type(y))"
      ],
      "metadata": {
        "colab": {
          "base_uri": "https://localhost:8080/"
        },
        "id": "KCoVvoT_6gSM",
        "outputId": "4f599649-95a6-4319-d7d2-a123288a5f9e"
      },
      "execution_count": 20,
      "outputs": [
        {
          "output_type": "stream",
          "name": "stdout",
          "text": [
            "3.3764 3.0\n",
            "<class 'float'> <class 'float'>\n"
          ]
        }
      ]
    },
    {
      "cell_type": "code",
      "source": [
        "a = \"Korea 서울 1234\"\n",
        "print(a)\n",
        "print(type(a))"
      ],
      "metadata": {
        "colab": {
          "base_uri": "https://localhost:8080/"
        },
        "id": "MU-tNHQk66ht",
        "outputId": "8cc24339-f369-4228-d56f-37bd5928f1b1"
      },
      "execution_count": 21,
      "outputs": [
        {
          "output_type": "stream",
          "name": "stdout",
          "text": [
            "Korea 서울 1234\n",
            "<class 'str'>\n"
          ]
        }
      ]
    },
    {
      "cell_type": "code",
      "source": [
        "a = 30\n",
        "print(a)\n",
        "print(type(a))\n",
        "\n",
        "b = '30'\n",
        "print(b)\n",
        "print(type(b))"
      ],
      "metadata": {
        "colab": {
          "base_uri": "https://localhost:8080/"
        },
        "id": "8WlyR9YR7NXk",
        "outputId": "29a1cf33-a0c5-464c-e9d3-8f5513624a55"
      },
      "execution_count": 22,
      "outputs": [
        {
          "output_type": "stream",
          "name": "stdout",
          "text": [
            "30\n",
            "<class 'int'>\n",
            "30\n",
            "<class 'str'>\n"
          ]
        }
      ]
    },
    {
      "cell_type": "code",
      "source": [
        "a = 5\n",
        "b = a == 5\n",
        "print(b)\n",
        "\n",
        "if a == 5:\n",
        "  print(\"a는 5\")"
      ],
      "metadata": {
        "colab": {
          "base_uri": "https://localhost:8080/"
        },
        "id": "VJxwnDY87eH9",
        "outputId": "739a3c90-08e7-4627-80f7-d20fa154a190"
      },
      "execution_count": 26,
      "outputs": [
        {
          "output_type": "stream",
          "name": "stdout",
          "text": [
            "True\n",
            "a는 5\n"
          ]
        }
      ]
    },
    {
      "cell_type": "code",
      "source": [
        "a = input(\"첫번째 숫자를 입력하세요 : \")\n",
        "b = input(\"두번째 숫자를 입력하세요 : \")\n",
        "c = a+b\n",
        "print(c)"
      ],
      "metadata": {
        "colab": {
          "base_uri": "https://localhost:8080/"
        },
        "id": "D25_HDfS_Jnu",
        "outputId": "acab2fbb-2447-4569-8e2a-8b8a85deb68e"
      },
      "execution_count": 29,
      "outputs": [
        {
          "output_type": "stream",
          "name": "stdout",
          "text": [
            "첫번째 숫자를 입력하세요 : 12\n",
            "두번째 숫자를 입력하세요 : 34\n",
            "1234\n"
          ]
        }
      ]
    },
    {
      "cell_type": "code",
      "source": [
        "3a = input(\"첫번째 숫자를 입력하세요 : \")\n",
        "b = input(\"두번째 숫자를 입력하세요 : \")\n",
        "c = int(a) + int(b)\n",
        "print(c)"
      ],
      "metadata": {
        "colab": {
          "base_uri": "https://localhost:8080/"
        },
        "id": "BxJFrJSdAfN-",
        "outputId": "b297e992-0c80-4105-db59-d544e68c918c"
      },
      "execution_count": 28,
      "outputs": [
        {
          "output_type": "stream",
          "name": "stdout",
          "text": [
            "첫번째 숫자를 입력하세요 : 32\n",
            "두번째 숫자를 입력하세요 : 22\n",
            "54\n"
          ]
        }
      ]
    },
    {
      "cell_type": "code",
      "source": [
        "inch = input('인치 : ')\n",
        "cm = float(inch) * 2.54\n",
        "print(cm,'cm')"
      ],
      "metadata": {
        "colab": {
          "base_uri": "https://localhost:8080/"
        },
        "id": "fho3txYhAqfl",
        "outputId": "3d472dea-c8b1-46a0-e948-1db12a44dc9e"
      },
      "execution_count": 33,
      "outputs": [
        {
          "output_type": "stream",
          "name": "stdout",
          "text": [
            "인치 : 42\n",
            "106.68 cm\n"
          ]
        }
      ]
    },
    {
      "cell_type": "code",
      "source": [
        "r = input('qkswlfma?')\n",
        "pie = 3.14\n",
        "enffp = 2.0 * pie * float(r)\n",
        "auswjr = pie * float(r) * float(r)\n",
        "print('반지름 : ', r, '둘레 : ', format(enffp, \".2f\"), '면적 : ',auswjr)"
      ],
      "metadata": {
        "colab": {
          "base_uri": "https://localhost:8080/"
        },
        "id": "nr0pRTsdBPne",
        "outputId": "a10de9cf-a456-43db-81ce-7294d0f6abbe"
      },
      "execution_count": 37,
      "outputs": [
        {
          "output_type": "stream",
          "name": "stdout",
          "text": [
            "qkswlfma?5\n",
            "반지름 :  5 둘레 :  31.40 면적 :  78.5\n"
          ]
        }
      ]
    },
    {
      "cell_type": "code",
      "source": [
        "hk = input(\"guswozl?\")\n",
        "mk = input(\"5rodnjf gn ahrvyzl?\")\n",
        "print(\"gksekfdp\", (int(mk) - int(hk)) / 5, 'Tlr tjdwkgoqhtpdy')"
      ],
      "metadata": {
        "colab": {
          "base_uri": "https://localhost:8080/"
        },
        "id": "jtRWFdQJCOWn",
        "outputId": "e591149c-72df-4dd7-f139-100c8a85e87c"
      },
      "execution_count": 39,
      "outputs": [
        {
          "output_type": "stream",
          "name": "stdout",
          "text": [
            "guswozl?160\n",
            "5rodnjf gn ahrvyzl?168\n",
            "gksekfdp 1.6 Tlr tjdwkgoqhtpdy\n"
          ]
        }
      ]
    },
    {
      "cell_type": "code",
      "source": [
        "book = int(input('corrkqt : '))\n",
        "dc = float(input('wjdtngud(%) : '))\n",
        "dv = int(input('qothdql : '))\n",
        "print(\"rufwodor : \", ((100 - dc) / 100) * book + dv)"
      ],
      "metadata": {
        "colab": {
          "base_uri": "https://localhost:8080/"
        },
        "id": "CmBY1zQmDdTp",
        "outputId": "bc8ae2b6-603d-4435-bf86-eff0fbc6c084"
      },
      "execution_count": 41,
      "outputs": [
        {
          "output_type": "stream",
          "name": "stdout",
          "text": [
            "corrkqt : 3000\n",
            "wjdtngud(%) : 20\n",
            "qothdql : 3000\n",
            "rufwodor :  5400.0\n"
          ]
        }
      ]
    },
    {
      "cell_type": "code",
      "source": [
        "dlf = input('1rhkahr : ')\n",
        "dl = input('2rhkahr : ')\n",
        "print('합계 : ', int(dlf) + int(dl), '평균 : ', (int(dlf) + int(dl)) / 2)"
      ],
      "metadata": {
        "colab": {
          "base_uri": "https://localhost:8080/"
        },
        "id": "yb-9vug3EtHe",
        "outputId": "746139e3-c9d0-4c0a-fd17-2c09378dcb47"
      },
      "execution_count": 43,
      "outputs": [
        {
          "output_type": "stream",
          "name": "stdout",
          "text": [
            "1rhkahr : 80\n",
            "2rhkahr : 67\n",
            "합계 :  147 평균 :  73.5\n"
          ]
        }
      ]
    },
    {
      "cell_type": "code",
      "source": [],
      "metadata": {
        "id": "Y5c0ljBLFUpe"
      },
      "execution_count": null,
      "outputs": []
    }
  ]
}