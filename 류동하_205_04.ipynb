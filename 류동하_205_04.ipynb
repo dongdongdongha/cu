{
  "nbformat": 4,
  "nbformat_minor": 0,
  "metadata": {
    "colab": {
      "provenance": [],
      "include_colab_link": true
    },
    "kernelspec": {
      "name": "python3",
      "display_name": "Python 3"
    },
    "language_info": {
      "name": "python"
    }
  },
  "cells": [
    {
      "cell_type": "markdown",
      "metadata": {
        "id": "view-in-github",
        "colab_type": "text"
      },
      "source": [
        "<a href=\"https://colab.research.google.com/github/dongdongdongha/cu/blob/main/%EB%A5%98%EB%8F%99%ED%95%98_205_04.ipynb\" target=\"_parent\"><img src=\"https://colab.research.google.com/assets/colab-badge.svg\" alt=\"Open In Colab\"/></a>"
      ]
    },
    {
      "cell_type": "code",
      "execution_count": null,
      "metadata": {
        "colab": {
          "base_uri": "https://localhost:8080/"
        },
        "id": "TY4bvXHJylme",
        "outputId": "fa3eac57-f763-4423-c3cb-5eee078c15b9"
      },
      "outputs": [
        {
          "output_type": "stream",
          "name": "stdout",
          "text": [
            "a입력:3\n",
            "b입력:4\n",
            "ok\n",
            "okay\n"
          ]
        }
      ],
      "source": [
        "a = int(input(\"a입력:\"))\n",
        "b = int(input(\"b입력:\"))\n",
        "if a == 3 and b == 4:\n",
        "  print(\"ok\")\n",
        "if a == 3 or b == 4:\n",
        "  print(\"okay\")"
      ]
    },
    {
      "cell_type": "code",
      "source": [
        "x = int(input(\"숫자입력:\"))\n",
        "if x > 10 and x % 2 == 0:\n",
        "  print(\"10 초과 짝수\")"
      ],
      "metadata": {
        "colab": {
          "base_uri": "https://localhost:8080/"
        },
        "id": "B-iZ52ze0ZEr",
        "outputId": "2042a3a8-4edb-4fd7-feb2-e76a74f27e3d"
      },
      "execution_count": null,
      "outputs": [
        {
          "output_type": "stream",
          "name": "stdout",
          "text": [
            "숫자입력:12\n",
            "10 초과 짝수\n"
          ]
        }
      ]
    },
    {
      "cell_type": "code",
      "source": [
        "a = int(input(\"필기 성적 : \"))\n",
        "b = int(input(\"실기 성적 : \"))\n",
        "if a > 60 and b > 60:\n",
        "  print(\"합격!\")\n",
        "else:\n",
        "  print(\"불합격!\")"
      ],
      "metadata": {
        "colab": {
          "base_uri": "https://localhost:8080/"
        },
        "id": "F5yHio2-00AE",
        "outputId": "07bf018e-95a0-4d82-8750-aebed774411b"
      },
      "execution_count": null,
      "outputs": [
        {
          "output_type": "stream",
          "name": "stdout",
          "text": [
            "필기 성적 : 66\n",
            "실기 성적 : 65\n",
            "합격!\n"
          ]
        }
      ]
    },
    {
      "cell_type": "code",
      "source": [
        "a = int(input(\"몇살이세요?\"))\n",
        "if a >= 0 and a < 7:\n",
        "  print(\"입장료는 무료\")\n",
        "if a >= 65:\n",
        "  print(\"입장료 무료\")\n",
        "else:\n",
        "  print(\"입장료 3000원\")"
      ],
      "metadata": {
        "colab": {
          "base_uri": "https://localhost:8080/"
        },
        "id": "J3ma4uCK10F2",
        "outputId": "a7c4f3b0-f0f0-47af-dfab-bca2d493987c"
      },
      "execution_count": null,
      "outputs": [
        {
          "output_type": "stream",
          "name": "stdout",
          "text": [
            "몇살이세요?534\n",
            "입장료 무료\n"
          ]
        }
      ]
    },
    {
      "cell_type": "code",
      "source": [
        "a = input('아이디를 입력하세요 : ')\n",
        "b = int(input(\"회원 lv.을 입력하세요 : \"))\n",
        "if a == 'admin' or b == 1:\n",
        "  print(\"관리자\")\n",
        "else:\n",
        "  print(\"회원\")"
      ],
      "metadata": {
        "colab": {
          "base_uri": "https://localhost:8080/"
        },
        "id": "isnEd0lb2yhA",
        "outputId": "5c5d6066-ff98-4c83-8d7c-da499e320bb0"
      },
      "execution_count": null,
      "outputs": [
        {
          "output_type": "stream",
          "name": "stdout",
          "text": [
            "아이디를 입력하세요 : admin\n",
            "회원 lv.을 입력하세요 : 52\n",
            "관리자\n"
          ]
        }
      ]
    },
    {
      "cell_type": "code",
      "source": [
        "a = int(input(\"정수 입력 : \"))\n",
        "if a > 100 or a < 0:\n",
        "  print(\"0~100 out\")\n",
        "else:\n",
        "  print(\"0~100 in\")"
      ],
      "metadata": {
        "colab": {
          "base_uri": "https://localhost:8080/"
        },
        "id": "YYOfuJn_4JMN",
        "outputId": "b1db1eb2-ae44-4adb-f00b-e255e194fd6e"
      },
      "execution_count": null,
      "outputs": [
        {
          "output_type": "stream",
          "name": "stdout",
          "text": [
            "정수 입력 : 41\n",
            "0~100 in\n"
          ]
        }
      ]
    },
    {
      "cell_type": "code",
      "source": [
        "m = 3\n",
        "\n",
        "if 3 <= m <= 5:\n",
        "  print(\"봄\")\n",
        "elif 6 <= m <= 8:\n",
        "  print(\"여름\")\n",
        "elif 9 <= m <= 11:\n",
        "  print(\"가을\")\n",
        "else:\n",
        "  print(\"겨울\")"
      ],
      "metadata": {
        "colab": {
          "base_uri": "https://localhost:8080/"
        },
        "id": "-5ZjnsoA4zi1",
        "outputId": "42bc97d8-673e-4708-cf91-7c7c2d8c71cd"
      },
      "execution_count": null,
      "outputs": [
        {
          "output_type": "stream",
          "name": "stdout",
          "text": [
            "봄\n"
          ]
        }
      ]
    },
    {
      "cell_type": "code",
      "source": [
        "a = int(input(\"구매액:\"))\n",
        "if a < 20000:\n",
        "  print(\"새벽배송 불가\")\n",
        "elif a < 50000:\n",
        "  print(\"배송비 +2500\")\n",
        "else:\n",
        "  print(\"무료배송\")"
      ],
      "metadata": {
        "colab": {
          "base_uri": "https://localhost:8080/"
        },
        "id": "0qeC8Kwu5qlS",
        "outputId": "24896068-ddff-4888-81b7-39c93d59cc7d"
      },
      "execution_count": null,
      "outputs": [
        {
          "output_type": "stream",
          "name": "stdout",
          "text": [
            "구매액:64563\n",
            "무료배송\n"
          ]
        }
      ]
    },
    {
      "cell_type": "code",
      "source": [
        "a = int(input(\"점수:\"))\n",
        "if a >= 90:\n",
        "  print(\"a등급\")\n",
        "elif a >= 80:\n",
        "  print(\"b등급\")\n",
        "elif a >= 70:\n",
        "  print(\"c등급\")\n",
        "else:\n",
        "  print(\"f등급\")"
      ],
      "metadata": {
        "colab": {
          "base_uri": "https://localhost:8080/"
        },
        "id": "rFyMQNsK6fwJ",
        "outputId": "1b3591b2-7170-4a7b-bab8-b03acddd7dc8"
      },
      "execution_count": null,
      "outputs": [
        {
          "output_type": "stream",
          "name": "stdout",
          "text": [
            "점수:89\n",
            "b등급\n"
          ]
        }
      ]
    },
    {
      "cell_type": "code",
      "source": [
        "a = int(input(\"1수:\"))\n",
        "b = int(input(\"2수:\"))\n",
        "c = int(input(\"3수:\"))\n",
        "\n",
        "if a > b:\n",
        "  if a > c :\n",
        "    print(\"가장큰수 a\")\n",
        "elif b > c:\n",
        "  print(\"가장큰수 b\")\n",
        "else:\n",
        "  print(\"가장큰수 c\")"
      ],
      "metadata": {
        "colab": {
          "base_uri": "https://localhost:8080/"
        },
        "id": "jnH1fhHu7UVg",
        "outputId": "f09dbca0-e7bf-4984-c1d2-201f2916fc42"
      },
      "execution_count": null,
      "outputs": [
        {
          "output_type": "stream",
          "name": "stdout",
          "text": [
            "1수:4\n",
            "2수:75\n",
            "3수:32\n",
            "가장큰수 b\n"
          ]
        }
      ]
    },
    {
      "cell_type": "code",
      "source": [
        "a = int(input(\"온도 입력 : \"))\n",
        "if a < 0:\n",
        "  print(\"고체\")\n",
        "elif a < 100:\n",
        "  print(\"액체\")\n",
        "else:\n",
        "  print(\"기체\")"
      ],
      "metadata": {
        "colab": {
          "base_uri": "https://localhost:8080/"
        },
        "id": "JhgijIxI_cpI",
        "outputId": "40bbf9ac-3f78-4214-8342-c584214e385e"
      },
      "execution_count": null,
      "outputs": [
        {
          "output_type": "stream",
          "name": "stdout",
          "text": [
            "온도 입력 : 100\n",
            "기체\n"
          ]
        }
      ]
    },
    {
      "cell_type": "code",
      "source": [
        "a = int(input(\"영어점수 : \"))\n",
        "b = int(input(\"수학점수 : \"))\n",
        "\n",
        "if a >= 80 and b >= 80:\n",
        "  print(\"최종합격\")\n",
        "elif a >= 80 or b >= 80:\n",
        "  print(\"재시험\")\n",
        "else : \n",
        "  print(\"컷\")"
      ],
      "metadata": {
        "colab": {
          "base_uri": "https://localhost:8080/"
        },
        "id": "MDII6NhbAKIV",
        "outputId": "d5424fad-f107-4e15-a305-9a8811e14a6e"
      },
      "execution_count": null,
      "outputs": [
        {
          "output_type": "stream",
          "name": "stdout",
          "text": [
            "영어점수 : 41\n",
            "수학점수 : 80\n",
            "재시험 : \n"
          ]
        }
      ]
    },
    {
      "cell_type": "code",
      "source": [
        "a = int(input(\"1. 매우만족 / 2. 만족 / 3. 불만족\"))\n",
        "b = int(input(\"음식값 : \"))\n",
        "\n",
        "if a == 1:\n",
        "  b = b+(b/5)\n",
        "  print(b)\n",
        "elif a == 2:\n",
        "  b = b+(b/10)\n",
        "  print(b)\n",
        "else:\n",
        "  b = b+(b/20)\n",
        "  print(b)"
      ],
      "metadata": {
        "colab": {
          "base_uri": "https://localhost:8080/"
        },
        "id": "tGjvBhr8B8NH",
        "outputId": "8dbe9f88-e153-452f-fc45-0254c89c0ca2"
      },
      "execution_count": null,
      "outputs": [
        {
          "output_type": "stream",
          "name": "stdout",
          "text": [
            "1. 매우만족 / 2. 만족 / 3. 불만족3\n",
            "음식값 : 1\n",
            "1.05\n"
          ]
        }
      ]
    },
    {
      "cell_type": "code",
      "source": [
        "a = int(input(\"구매가 : \"))\n",
        "if a < 50000:\n",
        "  a = a-(a*0.0025)\n",
        "elif a < 300000:\n",
        "  a = a-(a*0.005)\n",
        "else:\n",
        "  a = a-(a*0.01)\n",
        "print(a)"
      ],
      "metadata": {
        "colab": {
          "base_uri": "https://localhost:8080/"
        },
        "id": "3-uwAG3LD-W5",
        "outputId": "f8d69074-efaf-42e8-c208-0fed8e0c4e67"
      },
      "execution_count": null,
      "outputs": [
        {
          "output_type": "stream",
          "name": "stdout",
          "text": [
            "구매가 : 600000\n",
            "594000.0\n"
          ]
        }
      ]
    },
    {
      "cell_type": "code",
      "source": [
        "while(True):\n",
        "    a = int(input(\"1.떡볶이 3000원/ 2. 김밥 2500원/ 3. 튀김 3500원\"))\n",
        "    if a < 4:\n",
        "      break;\n",
        "    else:\n",
        "      print(\"1,2,3중에 택\")\n",
        "\n",
        "b = int(input(\"몇인분?\"))\n",
        "if a == 1:\n",
        "  b *= 3000\n",
        "elif a == 2:\n",
        "  b *= 2500\n",
        "else:\n",
        "  b *= 3500\n",
        "print(a*b)"
      ],
      "metadata": {
        "colab": {
          "base_uri": "https://localhost:8080/"
        },
        "id": "tPdFeTpPF0rK",
        "outputId": "ff4f420a-ad42-407f-e17a-23d785b453fc"
      },
      "execution_count": null,
      "outputs": [
        {
          "output_type": "stream",
          "name": "stdout",
          "text": [
            "1.떡볶이 3000원/ 2. 김밥 2500원/ 3. 튀김 3500원3\n",
            "몇인분?3456\n",
            "36288000\n"
          ]
        }
      ]
    },
    {
      "cell_type": "code",
      "source": [
        "a = int(input(\"체중(kg)\"))\n",
        "b = float(input(\"키(m)\"))\n",
        "f = a / (b*b)\n",
        "print(f)\n",
        "if f < 15:\n",
        "  print(\"정상\")\n",
        "elif f <25:\n",
        "  print(\"과체중\")\n",
        "else:\n",
        "  print(\"비만\")"
      ],
      "metadata": {
        "colab": {
          "base_uri": "https://localhost:8080/"
        },
        "id": "4yMcjDCuIdSF",
        "outputId": "98e53d23-95cf-48b9-988d-e3ffe0efde5c"
      },
      "execution_count": null,
      "outputs": [
        {
          "output_type": "stream",
          "name": "stdout",
          "text": [
            "체중(kg)60\n",
            "키(m)1.8\n",
            "18.51851851851852\n",
            "과체중\n"
          ]
        }
      ]
    },
    {
      "cell_type": "code",
      "source": [
        "x = 17\n",
        "if x > 10:\n",
        "  if x % 2 == 0:\n",
        "    print(\"10 초과 홀수\")\n",
        "  else:\n",
        "    print(\"10 초과 짝수\")\n",
        "else:\n",
        "  print(\"10 이하\")"
      ],
      "metadata": {
        "colab": {
          "base_uri": "https://localhost:8080/"
        },
        "id": "1XZODI14LIny",
        "outputId": "6cc65956-13c8-4a80-dc90-5f77fea10602"
      },
      "execution_count": null,
      "outputs": [
        {
          "output_type": "stream",
          "name": "stdout",
          "text": [
            "10 초과 짝수\n"
          ]
        }
      ]
    },
    {
      "cell_type": "code",
      "source": [
        "a = input(\"아이디:\")\n",
        "b = int(input(\"레벨:\"))\n",
        "\n",
        "if a == 'admin':\n",
        "  print('모든 콘텐츠 이용가능')\n",
        "else:\n",
        "  if 2 <= b <= 7:\n",
        "    print(\"일부 콘텐츠 이용가능\")\n",
        "  else:\n",
        "    print(\"콘텐츠 이용불가\")"
      ],
      "metadata": {
        "colab": {
          "base_uri": "https://localhost:8080/"
        },
        "id": "267epzLnNFIa",
        "outputId": "bc60f22e-a769-495b-adea-48fe84653c83"
      },
      "execution_count": null,
      "outputs": [
        {
          "output_type": "stream",
          "name": "stdout",
          "text": [
            "아이디:admin\n",
            "레벨:342\n",
            "모든 콘텐츠 이용가능\n"
          ]
        }
      ]
    },
    {
      "cell_type": "code",
      "source": [
        "cy = int(input(\"현재년\"))\n",
        "cm = int(input(\"현재월\"))\n",
        "cd = int(input(\"현재일\"))\n",
        "by = int(input(\"출생년\"))\n",
        "bm = int(input(\"출생월\"))\n",
        "bd = int(input(\"출생일\"))\n",
        "\n",
        "if bm < cm:\n",
        "  age = cy - by\n",
        "elif bm == cm:\n",
        "  if bd < cd:\n",
        "    age = cy - by\n",
        "  else:\n",
        "    age = cy - by - 1\n",
        "else:\n",
        "  age = cy - by - 1\n",
        "print(\"----------------------------------------------\")\n",
        "print(\"오늘날짜 : %d년 %d월 %d일\" %(cy, cm, cd))\n",
        "print(\"생년월일 : %d년 %d월 %d일\" %(by, bm, bd))\n",
        "print(\"----------------------------------------------\")\n",
        "print(\"만나이\", age, \"세\")"
      ],
      "metadata": {
        "colab": {
          "base_uri": "https://localhost:8080/"
        },
        "id": "bdMMI1OiOxxe",
        "outputId": "d3d7308b-e2e9-4d91-8ea7-867fa9c66d9a"
      },
      "execution_count": null,
      "outputs": [
        {
          "output_type": "stream",
          "name": "stdout",
          "text": [
            "현재년1\n",
            "현재월1\n",
            "현재일1\n",
            "출생년1\n",
            "출생월1\n",
            "출생일1\n",
            "----------------------------------------------\n",
            "오늘날짜 : 1년 1월 1일\n",
            "생년월일 : 1년 1월 1일\n",
            "----------------------------------------------\n",
            "만나이 -1 세\n"
          ]
        }
      ]
    },
    {
      "cell_type": "code",
      "source": [
        "import datetime\n",
        "from pytz import timezone\n",
        "\n",
        "now = datetime.datetime.now(timezone('Asia/Seoul'))\n",
        "if 0 <= now.hour <= 12:\n",
        "  a = '오전'\n",
        "else:\n",
        "  a = '오후'\n",
        "print(\"현재는 \", now.hour, \"시\", now.minute, \"분으로 \", a, \"입니다.\",sep = '')"
      ],
      "metadata": {
        "colab": {
          "base_uri": "https://localhost:8080/"
        },
        "id": "p8YDM4TZSmg3",
        "outputId": "2c460a10-5e3e-4770-97b4-6f8ce29bfe52"
      },
      "execution_count": null,
      "outputs": [
        {
          "output_type": "stream",
          "name": "stdout",
          "text": [
            "현재는 11시28분으로 오전입니다.\n"
          ]
        }
      ]
    },
    {
      "cell_type": "code",
      "source": [],
      "metadata": {
        "id": "MkyWKh7CUwxx"
      },
      "execution_count": null,
      "outputs": []
    }
  ]
}