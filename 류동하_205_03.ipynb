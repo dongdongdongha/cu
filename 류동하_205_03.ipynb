{
  "nbformat": 4,
  "nbformat_minor": 0,
  "metadata": {
    "colab": {
      "provenance": [],
      "include_colab_link": true
    },
    "kernelspec": {
      "name": "python3",
      "display_name": "Python 3"
    },
    "language_info": {
      "name": "python"
    }
  },
  "cells": [
    {
      "cell_type": "markdown",
      "metadata": {
        "id": "view-in-github",
        "colab_type": "text"
      },
      "source": [
        "<a href=\"https://colab.research.google.com/github/dongdongdongha/cu/blob/main/%EB%A5%98%EB%8F%99%ED%95%98_205_03.ipynb\" target=\"_parent\"><img src=\"https://colab.research.google.com/assets/colab-badge.svg\" alt=\"Open In Colab\"/></a>"
      ]
    },
    {
      "cell_type": "code",
      "execution_count": 2,
      "metadata": {
        "colab": {
          "base_uri": "https://localhost:8080/"
        },
        "id": "NRfD7NVAyVX7",
        "outputId": "1489b7ed-05a4-4fa0-9659-d54b46b3b7c5"
      },
      "outputs": [
        {
          "output_type": "stream",
          "name": "stdout",
          "text": [
            "7\n",
            "3\n",
            "10\n",
            "2.5\n",
            "25\n",
            "2\n",
            "1\n"
          ]
        }
      ],
      "source": [
        "print(5+2)\n",
        "print(5-2)\n",
        "print(5*2)\n",
        "print(5/2)\n",
        "print(5**2)\n",
        "print(5//2)\n",
        "print(5%2)"
      ]
    },
    {
      "cell_type": "code",
      "source": [
        "x = 10 % 3 \n",
        "print(x) \n",
        "y = 7 // 3 \n",
        "print(y)"
      ],
      "metadata": {
        "colab": {
          "base_uri": "https://localhost:8080/"
        },
        "id": "lhkKE4AByfbV",
        "outputId": "a6cf8ec8-f16e-4a7e-d220-19fb819dbe07"
      },
      "execution_count": 3,
      "outputs": [
        {
          "output_type": "stream",
          "name": "stdout",
          "text": [
            "1\n",
            "2\n"
          ]
        }
      ]
    },
    {
      "cell_type": "code",
      "source": [
        "a = 10 \n",
        "b = 20 \n",
        "c = a + b * 10 - 5 / 5 \n",
        "print(c)"
      ],
      "metadata": {
        "colab": {
          "base_uri": "https://localhost:8080/"
        },
        "id": "NUS_vHn_yqED",
        "outputId": "6016b120-ee93-4451-b840-f14982188665"
      },
      "execution_count": 4,
      "outputs": [
        {
          "output_type": "stream",
          "name": "stdout",
          "text": [
            "209.0\n"
          ]
        }
      ]
    },
    {
      "cell_type": "code",
      "source": [
        "x = 2**3\n",
        "print(x)\n",
        "\n",
        "y = 10**4\n",
        "print(y)"
      ],
      "metadata": {
        "colab": {
          "base_uri": "https://localhost:8080/"
        },
        "id": "mprdO5u4yy1o",
        "outputId": "ec152b0f-dad6-42b0-8565-c3db2cfece08"
      },
      "execution_count": 5,
      "outputs": [
        {
          "output_type": "stream",
          "name": "stdout",
          "text": [
            "8\n",
            "10000\n"
          ]
        }
      ]
    },
    {
      "cell_type": "code",
      "source": [
        "hello = '안녕' * 5\n",
        "print(hello)"
      ],
      "metadata": {
        "colab": {
          "base_uri": "https://localhost:8080/"
        },
        "id": "ZVPAiW2TzUS2",
        "outputId": "0efbcef8-9b57-4b03-b0d9-18266276ee1a"
      },
      "execution_count": 6,
      "outputs": [
        {
          "output_type": "stream",
          "name": "stdout",
          "text": [
            "안녕안녕안녕안녕안녕\n"
          ]
        }
      ]
    },
    {
      "cell_type": "code",
      "source": [
        "s1 = '대한민국'\n",
        "s2 = '만세'\n",
        "print(s1+s2)\n",
        "print(s1*5)"
      ],
      "metadata": {
        "colab": {
          "base_uri": "https://localhost:8080/"
        },
        "id": "FRBkozsGzrdO",
        "outputId": "5f3804dc-5097-40b8-84a9-736fa681f74b"
      },
      "execution_count": 7,
      "outputs": [
        {
          "output_type": "stream",
          "name": "stdout",
          "text": [
            "대한민국만세\n",
            "대한민국대한민국대한민국대한민국대한민국\n"
          ]
        }
      ]
    },
    {
      "cell_type": "code",
      "source": [
        "print(\"korea\"+str(2021))\n",
        "print(10+int(\"22\"))\n",
        "print(10 + int(22.5))\n",
        "print(10 + int(float(22.5)))\n",
        "print(\"korea\" + '2021')"
      ],
      "metadata": {
        "colab": {
          "base_uri": "https://localhost:8080/"
        },
        "id": "Dx44Nojd0Prl",
        "outputId": "d58054a7-b6e7-4223-aff9-afe8c112327e"
      },
      "execution_count": 9,
      "outputs": [
        {
          "output_type": "stream",
          "name": "stdout",
          "text": [
            "korea2021\n",
            "32\n",
            "32\n",
            "32\n",
            "korea2021\n"
          ]
        }
      ]
    },
    {
      "cell_type": "code",
      "source": [
        "x = 10\n",
        "x += 20\n",
        "print(x)"
      ],
      "metadata": {
        "colab": {
          "base_uri": "https://localhost:8080/"
        },
        "id": "SVkNYarn1keG",
        "outputId": "85ca6e0a-ce36-4a4f-e049-dd0b7d7b8d94"
      },
      "execution_count": 10,
      "outputs": [
        {
          "output_type": "stream",
          "name": "stdout",
          "text": [
            "30\n"
          ]
        }
      ]
    },
    {
      "cell_type": "code",
      "source": [
        "a = 5\n",
        "a += 1\n",
        "print(a)\n",
        "\n",
        "a = 5\n",
        "a += 1\n",
        "print(a)\n",
        "\n",
        "a -= 5\n",
        "print(a)\n",
        "\n",
        "a *= 2\n",
        "print(a)"
      ],
      "metadata": {
        "colab": {
          "base_uri": "https://localhost:8080/"
        },
        "id": "L_pVmPIB14mI",
        "outputId": "b776c346-dca0-4828-ff1f-bdc5ca12f716"
      },
      "execution_count": 11,
      "outputs": [
        {
          "output_type": "stream",
          "name": "stdout",
          "text": [
            "6\n",
            "6\n",
            "1\n",
            "2\n"
          ]
        }
      ]
    },
    {
      "cell_type": "code",
      "source": [
        "x = 3\n",
        "y = 5\n",
        "x *= x+y\n",
        "print(x)"
      ],
      "metadata": {
        "colab": {
          "base_uri": "https://localhost:8080/"
        },
        "id": "aZarVytH2McF",
        "outputId": "bda2cf4f-05b6-4e70-ac2e-951d637d5bd3"
      },
      "execution_count": 12,
      "outputs": [
        {
          "output_type": "stream",
          "name": "stdout",
          "text": [
            "24\n"
          ]
        }
      ]
    },
    {
      "cell_type": "code",
      "source": [
        "money = int(input(\"투입한 돈 : \"))\n",
        "price = int(input(\"물건값 : \"))\n",
        "change = money - price\n",
        "print(\"거스름돈 : \", change)\n",
        "dhqor = change // 500\n",
        "qor = (change % 500) // 100\n",
        "print(\"500원 : \", dhqor)\n",
        "print(\"100원 : \", qor)"
      ],
      "metadata": {
        "colab": {
          "base_uri": "https://localhost:8080/"
        },
        "id": "lAFv-i8t2Uex",
        "outputId": "7f5135d1-1356-4cf2-f41b-d75fe44c7e2a"
      },
      "execution_count": 18,
      "outputs": [
        {
          "output_type": "stream",
          "name": "stdout",
          "text": [
            "투입한 돈 : 2500\n",
            "물건값 : 300\n",
            "거스름돈 :  2200\n",
            "500원 :  4\n",
            "100원 :  2\n"
          ]
        }
      ]
    },
    {
      "cell_type": "code",
      "source": [
        "if 3 < 5:\n",
        "  print(\"Hello World\")"
      ],
      "metadata": {
        "colab": {
          "base_uri": "https://localhost:8080/"
        },
        "id": "y3dZyvc79Jai",
        "outputId": "ca2b6ced-b818-4e25-d93e-4c642de27ffe"
      },
      "execution_count": 19,
      "outputs": [
        {
          "output_type": "stream",
          "name": "stdout",
          "text": [
            "Hello World\n"
          ]
        }
      ]
    },
    {
      "cell_type": "code",
      "source": [
        "if 3 > 5:\n",
        "  print(\"Hello World\")"
      ],
      "metadata": {
        "id": "obAu22AQ-BMT"
      },
      "execution_count": 20,
      "outputs": []
    },
    {
      "cell_type": "code",
      "source": [
        "age = int(input(\"몇살입니까?\"))\n",
        "if age<20:\n",
        "  print(\"학생입니다.\")"
      ],
      "metadata": {
        "colab": {
          "base_uri": "https://localhost:8080/"
        },
        "id": "Hduu4o7u-HSI",
        "outputId": "e94695bc-10ea-4fe5-eb2f-1d65655319f4"
      },
      "execution_count": 21,
      "outputs": [
        {
          "output_type": "stream",
          "name": "stdout",
          "text": [
            "몇살입니까?10\n",
            "학생입니다.\n"
          ]
        }
      ]
    },
    {
      "cell_type": "code",
      "source": [
        "age = 15\n",
        "if age < 20: \n",
        "  print(\"학생입니다.\")\n",
        "  print(\"안녕히가세요\")\n",
        "  "
      ],
      "metadata": {
        "colab": {
          "base_uri": "https://localhost:8080/"
        },
        "id": "iUhVaehK-Uob",
        "outputId": "cc03a63e-f58e-461f-acbc-8f6575826761"
      },
      "execution_count": 22,
      "outputs": [
        {
          "output_type": "stream",
          "name": "stdout",
          "text": [
            "학생입니다.\n",
            "안녕히가세요\n"
          ]
        }
      ]
    },
    {
      "cell_type": "code",
      "source": [
        "age = 20\n",
        "if age < 20 : \n",
        "  print(\"학생입니다.\")\n",
        "print(\"안녕히가세요.\")"
      ],
      "metadata": {
        "id": "Ds1NnjiR-sOj"
      },
      "execution_count": 25,
      "outputs": []
    },
    {
      "cell_type": "code",
      "source": [
        "print(3 == 5)\n",
        "print(3 != 5)\n",
        "print(3 < 5)"
      ],
      "metadata": {
        "colab": {
          "base_uri": "https://localhost:8080/"
        },
        "id": "xzIMk2Wg-59H",
        "outputId": "3a7f090a-bf15-428c-8cc7-f8a97983e4a6"
      },
      "execution_count": 26,
      "outputs": [
        {
          "output_type": "stream",
          "name": "stdout",
          "text": [
            "False\n",
            "True\n",
            "True\n"
          ]
        }
      ]
    },
    {
      "cell_type": "code",
      "source": [
        "x = 4\n",
        "print(1 < x < 5)"
      ],
      "metadata": {
        "colab": {
          "base_uri": "https://localhost:8080/"
        },
        "id": "XJ6SAmGf_IUh",
        "outputId": "68ae9d87-e50f-462d-8151-76f926ae95eb"
      },
      "execution_count": 28,
      "outputs": [
        {
          "output_type": "stream",
          "name": "stdout",
          "text": [
            "True\n"
          ]
        }
      ]
    },
    {
      "cell_type": "code",
      "source": [
        "print(3 >= 5)"
      ],
      "metadata": {
        "colab": {
          "base_uri": "https://localhost:8080/"
        },
        "id": "2WcnObwv_b5A",
        "outputId": "3c02943c-5ec4-46ac-cb10-337391b69783"
      },
      "execution_count": 31,
      "outputs": [
        {
          "output_type": "stream",
          "name": "stdout",
          "text": [
            "False\n"
          ]
        }
      ]
    },
    {
      "cell_type": "code",
      "source": [
        "s = int(input(\"숫자입력\"))\n",
        "if s == 5:\n",
        "  print(\"5입니다\")\n",
        "else :\n",
        "  if s > 5:\n",
        "    print(\"5보다 크다\")\n",
        "  else:\n",
        "    print(\"5보다 작다\")"
      ],
      "metadata": {
        "colab": {
          "base_uri": "https://localhost:8080/"
        },
        "id": "7tA8AEmo_fdv",
        "outputId": "ce551573-201e-450b-9d79-afe4ba950728"
      },
      "execution_count": 37,
      "outputs": [
        {
          "output_type": "stream",
          "name": "stdout",
          "text": [
            "숫자입력10\n",
            "5보다 크다\n"
          ]
        }
      ]
    },
    {
      "cell_type": "code",
      "source": [
        "country = \"Korea\"\n",
        "if country == \"Korea\" : \n",
        "  print(\"한국\")"
      ],
      "metadata": {
        "colab": {
          "base_uri": "https://localhost:8080/"
        },
        "id": "f_5poy8xAM2K",
        "outputId": "93ff8ce7-b437-46f2-bd63-c25b168b4774"
      },
      "execution_count": 38,
      "outputs": [
        {
          "output_type": "stream",
          "name": "stdout",
          "text": [
            "한국\n"
          ]
        }
      ]
    },
    {
      "cell_type": "code",
      "source": [
        "age = int(input(\"몇살입니까?\"))\n",
        "if age < 20 : \n",
        "  print(\"학생입니다.\")\n",
        "else : \n",
        "  print(\"성인입니다.\")"
      ],
      "metadata": {
        "colab": {
          "base_uri": "https://localhost:8080/"
        },
        "id": "XLXukNdJBPt7",
        "outputId": "63940698-b48a-4041-8b75-ef0572a81841"
      },
      "execution_count": 39,
      "outputs": [
        {
          "output_type": "stream",
          "name": "stdout",
          "text": [
            "몇살입니까?43\n",
            "성인입니다.\n"
          ]
        }
      ]
    },
    {
      "cell_type": "code",
      "source": [
        "s = int(input(\"숫자입력 : \"))\n",
        "if s % 2 == 0:\n",
        "  print(\"짝수\")\n",
        "else : \n",
        "  print(\"홀수\")"
      ],
      "metadata": {
        "colab": {
          "base_uri": "https://localhost:8080/"
        },
        "id": "MWQAz6lEBlm5",
        "outputId": "f949b8a2-cace-4481-fa69-c7416f466eb8"
      },
      "execution_count": 41,
      "outputs": [
        {
          "output_type": "stream",
          "name": "stdout",
          "text": [
            "숫자입력 : 77\n",
            "홀수\n"
          ]
        }
      ]
    },
    {
      "cell_type": "code",
      "source": [
        "s = int(input(\"정수입력 : \"))\n",
        "if s % 5 == 0:\n",
        "  print(\"5의 배수입니다\")\n",
        "else :\n",
        "  print(\"5의 배수가 아닙니다.\")"
      ],
      "metadata": {
        "colab": {
          "base_uri": "https://localhost:8080/"
        },
        "id": "KIJXh7F_CJj1",
        "outputId": "ed7db0f6-fcea-4e2a-c010-7fc0002857d5"
      },
      "execution_count": 44,
      "outputs": [
        {
          "output_type": "stream",
          "name": "stdout",
          "text": [
            "정수입력 : 321\n",
            "5의 배수가 아닙니다.\n"
          ]
        }
      ]
    },
    {
      "cell_type": "code",
      "source": [
        "passw = input(\"암호입력 : \")\n",
        "if passw == \"암호\" : \n",
        "  print(\"암호이다\")\n",
        "else : \n",
        "  print(\"암호가 아니다.\")"
      ],
      "metadata": {
        "colab": {
          "base_uri": "https://localhost:8080/"
        },
        "id": "wBOyH77_Cfld",
        "outputId": "26262456-7929-40d3-c90e-3594abc35a44"
      },
      "execution_count": 46,
      "outputs": [
        {
          "output_type": "stream",
          "name": "stdout",
          "text": [
            "암호입력 : 암호\n",
            "암호이다\n"
          ]
        }
      ]
    },
    {
      "cell_type": "code",
      "source": [
        "s = int(input(\"숫자를 입력하세요\"))\n",
        "if s > 0:\n",
        "  print(\"양수입니다\")\n",
        "else : \n",
        "  print(\"0 또는 음수다.\")"
      ],
      "metadata": {
        "colab": {
          "base_uri": "https://localhost:8080/"
        },
        "id": "g3snVdl5Czfp",
        "outputId": "65efaee5-d645-43fb-f291-be1ef259e061"
      },
      "execution_count": 48,
      "outputs": [
        {
          "output_type": "stream",
          "name": "stdout",
          "text": [
            "숫자를 입력하세요-321\n",
            "0 또는 음수다.\n"
          ]
        }
      ]
    },
    {
      "cell_type": "code",
      "source": [
        "s1 = int(input(\"첫숫자 : \"))\n",
        "s2 = int(input(\"둘째숫자 : \"))\n",
        "if s1 > s2 : \n",
        "  print(s1 - s2)\n",
        "else : \n",
        "  print(s2 -s1)"
      ],
      "metadata": {
        "colab": {
          "base_uri": "https://localhost:8080/"
        },
        "id": "sWRiYQMxDe2-",
        "outputId": "f0a2defe-d174-4978-c9da-b4fad5c1e0c7"
      },
      "execution_count": 51,
      "outputs": [
        {
          "output_type": "stream",
          "name": "stdout",
          "text": [
            "첫숫자 : 21\n",
            "둘째숫자 : 21\n",
            "0\n"
          ]
        }
      ]
    },
    {
      "cell_type": "code",
      "source": [
        "s = int(input(\"(주간근무 : 1 / 야간근무 : 2)선택 : \"))\n",
        "ss = int(input(\"근무시간 입력 : \"))\n",
        "if s == 1:\n",
        "  print(ss,\"시간동안 일한 급여 : \", ss * 9500)\n",
        "else:\n",
        "  print(ss,\"시간동안 일한 급여 : \", int(ss * 9500 * 1.5))"
      ],
      "metadata": {
        "colab": {
          "base_uri": "https://localhost:8080/"
        },
        "id": "QI0891paD7tn",
        "outputId": "094ed3a8-72f8-465e-b174-3ca4da884bd6"
      },
      "execution_count": 61,
      "outputs": [
        {
          "output_type": "stream",
          "name": "stdout",
          "text": [
            "(주간근무 : 1 / 야간근무 : 2)선택 : 2\n",
            "근무시간 입력 : 5435\n",
            "5435 시간동안 일한 급여 :  77448750\n"
          ]
        }
      ]
    },
    {
      "cell_type": "code",
      "source": [
        "n = input(\"이름 : \")\n",
        "s = int(input(\"근무시간 입력 : \"))\n",
        "if s > 40:\n",
        "  print(n,\"님\", sep = \"\")\n",
        "  print(\"일한시간 :\", s)\n",
        "  print(\"초과시간 :\", int(s-40))\n",
        "  print(\"주급 : \", int(40 * 12000 + (s-40) * 1200 * 1.5))\n",
        "else : \n",
        "  print(n,\"님\", sep = \"\")\n",
        "  print(\"일한시간 :\", s)\n",
        "  print(\"주급 :\", s * 1200)"
      ],
      "metadata": {
        "colab": {
          "base_uri": "https://localhost:8080/"
        },
        "id": "v_E0_-qAEaD8",
        "outputId": "aaab8ee4-bec0-43e7-b745-00046cdfb4f9"
      },
      "execution_count": 69,
      "outputs": [
        {
          "output_type": "stream",
          "name": "stdout",
          "text": [
            "이름 : fbehdgk\n",
            "근무시간 입력 : 33\n",
            "fbehdgk님\n",
            "일한시간 : 33\n",
            "주급 : 39600\n"
          ]
        }
      ]
    },
    {
      "cell_type": "code",
      "source": [
        "print((3 == 3)and(4 != 3))\n",
        "print((3 == 3)or(4 != 3))\n",
        "print(not(4 != 3))"
      ],
      "metadata": {
        "colab": {
          "base_uri": "https://localhost:8080/"
        },
        "id": "rO5TA6LjNK5F",
        "outputId": "a22feef5-d116-42c4-8110-a7ae7f07e273"
      },
      "execution_count": 71,
      "outputs": [
        {
          "output_type": "stream",
          "name": "stdout",
          "text": [
            "True\n",
            "True\n",
            "False\n"
          ]
        }
      ]
    },
    {
      "cell_type": "code",
      "source": [],
      "metadata": {
        "id": "rqot8YITOMTw"
      },
      "execution_count": null,
      "outputs": []
    }
  ]
}