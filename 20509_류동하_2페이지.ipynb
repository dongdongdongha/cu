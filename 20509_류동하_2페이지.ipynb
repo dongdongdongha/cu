{
  "nbformat": 4,
  "nbformat_minor": 0,
  "metadata": {
    "colab": {
      "provenance": [],
      "authorship_tag": "ABX9TyM1M6NZLbNfkfUEE/t5L0sz",
      "include_colab_link": true
    },
    "kernelspec": {
      "name": "python3",
      "display_name": "Python 3"
    },
    "language_info": {
      "name": "python"
    }
  },
  "cells": [
    {
      "cell_type": "markdown",
      "metadata": {
        "id": "view-in-github",
        "colab_type": "text"
      },
      "source": [
        "<a href=\"https://colab.research.google.com/github/dongdongdongha/cu/blob/main/20509_%EB%A5%98%EB%8F%99%ED%95%98_2%ED%8E%98%EC%9D%B4%EC%A7%80.ipynb\" target=\"_parent\"><img src=\"https://colab.research.google.com/assets/colab-badge.svg\" alt=\"Open In Colab\"/></a>"
      ]
    },
    {
      "cell_type": "code",
      "execution_count": 2,
      "metadata": {
        "colab": {
          "base_uri": "https://localhost:8080/"
        },
        "id": "-sjnk7oBOuQ5",
        "outputId": "b7946d45-e7a9-4550-e7aa-50601b3cd95a"
      },
      "outputs": [
        {
          "output_type": "stream",
          "name": "stdout",
          "text": [
            "34 12\n"
          ]
        }
      ],
      "source": [
        "a, b =12, 34\n",
        "a, b = b, a\n",
        "print(a, b)"
      ]
    },
    {
      "cell_type": "code",
      "source": [
        "ani = {}\n",
        "\n",
        "print(\"요소 추가 이전 :\", ani)\n",
        "ani[\"작가\"] = \"황미나\"\n",
        "ani[\"연재작\"] = \"이오니아의 푸른 별\"\n",
        "ani[\"최근작\"] = \"보톡스\"\n",
        "print(\"요소 추가 이후 :\", ani)\n",
        "\n",
        "del ani['연재작']\n",
        "print('요소 제거 이후 :', ani)"
      ],
      "metadata": {
        "colab": {
          "base_uri": "https://localhost:8080/"
        },
        "id": "ljwzBjx5QHmw",
        "outputId": "561e44dc-f0df-475c-c271-293b0f046dd6"
      },
      "execution_count": 4,
      "outputs": [
        {
          "output_type": "stream",
          "name": "stdout",
          "text": [
            "요소 추가 이전 : {}\n",
            "요소 추가 이후 : {'작가': '황미나', '연재작': '이오니아의 푸른 별', '최근작': '보톡스'}\n",
            "요소 제거 이후 : {'작가': '황미나', '최근작': '보톡스'}\n"
          ]
        }
      ]
    },
    {
      "cell_type": "code",
      "source": [
        "rainbow = {'빨강':'red', '주황':'orange', \"노\":'yellow', '초':'green', '파':'blue', '남':'navy', '보':'purple'}\n",
        "\n",
        "print(\"초록색 =\", rainbow['초'])\n",
        "\n",
        "rainbow['하얀색'] = 'white'\n",
        "rainbow['주황'] = 'juhwang'\n",
        "del rainbow['파']\n",
        "\n",
        "print(rainbow)"
      ],
      "metadata": {
        "colab": {
          "base_uri": "https://localhost:8080/"
        },
        "id": "9-PkRQ-ASCQ_",
        "outputId": "cc908b6d-3b66-4698-c27e-cd2cd994730e"
      },
      "execution_count": 8,
      "outputs": [
        {
          "output_type": "stream",
          "name": "stdout",
          "text": [
            "초록색 = green\n",
            "{'빨강': 'red', '주황': 'juhwang', '노': 'yellow', '초': 'green', '남': 'navy', '보': 'purple', '하얀색': 'white'}\n"
          ]
        }
      ]
    },
    {
      "cell_type": "code",
      "source": [
        "dic = {'boy':'소년', 'school':'학교', 'book':'책'}\n",
        "print(dic.keys())\n",
        "print(dic.values())\n",
        "print(dic.items())\n"
      ],
      "metadata": {
        "colab": {
          "base_uri": "https://localhost:8080/"
        },
        "id": "IO0radQfTyRP",
        "outputId": "de14a72d-f09b-40c9-8c25-da3d1235d583"
      },
      "execution_count": 10,
      "outputs": [
        {
          "output_type": "stream",
          "name": "stdout",
          "text": [
            "dict_keys(['boy', 'school', 'book'])\n",
            "dict_values(['소년', '학교', '책'])\n",
            "dict_items([('boy', '소년'), ('school', '학교'), ('book', '책')])\n"
          ]
        }
      ]
    },
    {
      "cell_type": "code",
      "source": [
        "dic = {'boy':'소년', 'school':'학교', 'book':'책'}\n",
        "print(dic.get('boy'))\n",
        "print(dic.get('student'))\n",
        "print(dic.get('student, 사전에 없는 단어입니다.'))"
      ],
      "metadata": {
        "colab": {
          "base_uri": "https://localhost:8080/"
        },
        "id": "UnFDX2DkZu3N",
        "outputId": "96e300f3-173d-4968-ab93-0f0bfefdf570"
      },
      "execution_count": 11,
      "outputs": [
        {
          "output_type": "stream",
          "name": "stdout",
          "text": [
            "소년\n",
            "None\n",
            "None\n"
          ]
        }
      ]
    },
    {
      "cell_type": "code",
      "source": [
        "for key in dic.keys():\n",
        "  print(key)"
      ],
      "metadata": {
        "colab": {
          "base_uri": "https://localhost:8080/"
        },
        "id": "MGsu4aB7aRdf",
        "outputId": "4e770810-f472-4c60-d082-89ecb5086b69"
      },
      "execution_count": 12,
      "outputs": [
        {
          "output_type": "stream",
          "name": "stdout",
          "text": [
            "boy\n",
            "school\n",
            "book\n"
          ]
        }
      ]
    },
    {
      "cell_type": "code",
      "source": [
        "for value in dic.values():\n",
        "  print(value)"
      ],
      "metadata": {
        "colab": {
          "base_uri": "https://localhost:8080/"
        },
        "id": "jAZsPyKRbLdV",
        "outputId": "2438df7a-ebf4-4f2f-a652-6cec3b933d77"
      },
      "execution_count": 15,
      "outputs": [
        {
          "output_type": "stream",
          "name": "stdout",
          "text": [
            "소년\n",
            "학교\n",
            "책\n"
          ]
        }
      ]
    },
    {
      "cell_type": "code",
      "source": [
        "for item in dic.items():\n",
        "  print(item)"
      ],
      "metadata": {
        "colab": {
          "base_uri": "https://localhost:8080/"
        },
        "id": "9GNiZUdKbTr9",
        "outputId": "cf5e2219-a45a-4fac-863a-7ce76274975c"
      },
      "execution_count": 16,
      "outputs": [
        {
          "output_type": "stream",
          "name": "stdout",
          "text": [
            "('boy', '소년')\n",
            "('school', '학교')\n",
            "('book', '책')\n"
          ]
        }
      ]
    },
    {
      "cell_type": "code",
      "source": [
        "pets = [\n",
        "    {\"name\":\"구름\", \"age\":5},\n",
        "    {\"name\":'초코', 'age':3},\n",
        "    {\"name\":'아지', 'age':1},\n",
        "    {\"name\":'호랑이', 'age':1}\n",
        "]\n",
        "\n",
        "print(\"#우리 동네 애완 동물들#\")\n",
        "for dkTid in pets:\n",
        "  print(dkTid['name'], dkTid['age'],\"살\")"
      ],
      "metadata": {
        "colab": {
          "base_uri": "https://localhost:8080/"
        },
        "id": "4jqSepsTblEt",
        "outputId": "8ab092ea-e060-4bd7-eef6-5a6262965f3c"
      },
      "execution_count": 21,
      "outputs": [
        {
          "output_type": "stream",
          "name": "stdout",
          "text": [
            "#우리 동네 애완 동물들#\n",
            "구름 5 살\n",
            "초코 3 살\n",
            "아지 1 살\n",
            "호랑이 1 살\n"
          ]
        }
      ]
    },
    {
      "cell_type": "code",
      "source": [
        "numbers = [1,2,3,4,5,6,8,9,5,1,7,3,5,1,3,5,7,9]\n",
        "count = {}\n",
        "\n",
        "for i in numbers:\n",
        "  if i in count:\n",
        "    count[i] +=1\n",
        "  else:\n",
        "    count[i] = 1\n",
        "\n",
        "print(count)"
      ],
      "metadata": {
        "colab": {
          "base_uri": "https://localhost:8080/"
        },
        "id": "FrD2yJyNd4q2",
        "outputId": "c7242f5b-6bf8-44ee-e371-9973257b6c25"
      },
      "execution_count": 22,
      "outputs": [
        {
          "output_type": "stream",
          "name": "stdout",
          "text": [
            "{1: 3, 2: 1, 3: 3, 4: 1, 5: 4, 6: 1, 8: 1, 9: 2, 7: 2}\n"
          ]
        }
      ]
    },
    {
      "cell_type": "code",
      "source": [
        "song = \"by the rivers of babylon\"\n",
        "alphabet = dict()\n",
        "\n",
        "for c in song:\n",
        "  if c.isalpha() == False:\n",
        "    continue\n",
        "  c = c.lower()\n",
        "  if c in alphabet:\n",
        "    alphabet[c] += 1\n",
        "  else:\n",
        "    alphabet[c] = 1\n",
        "\n",
        "print(alphabet)"
      ],
      "metadata": {
        "colab": {
          "base_uri": "https://localhost:8080/"
        },
        "id": "mXqlnWyxh2x3",
        "outputId": "a8e67db3-8955-4b27-8939-f1578099a53d"
      },
      "execution_count": 23,
      "outputs": [
        {
          "output_type": "stream",
          "name": "stdout",
          "text": [
            "{'b': 3, 'y': 2, 't': 1, 'h': 1, 'e': 2, 'r': 2, 'i': 1, 'v': 1, 's': 1, 'o': 2, 'f': 1, 'a': 1, 'l': 1, 'n': 1}\n"
          ]
        }
      ]
    },
    {
      "cell_type": "code",
      "source": [
        "def hi() :\n",
        "  print('Hello world!')\n",
        "hi()"
      ],
      "metadata": {
        "colab": {
          "base_uri": "https://localhost:8080/"
        },
        "id": "d84LEw3BoFjP",
        "outputId": "78e543aa-6e8c-49ed-b471-1f1176500aa8"
      },
      "execution_count": 24,
      "outputs": [
        {
          "output_type": "stream",
          "name": "stdout",
          "text": [
            "Hello world!\n"
          ]
        }
      ]
    },
    {
      "cell_type": "code",
      "source": [
        "def sum(a,b,c):\n",
        "  s = (a + b + c) / 3\n",
        "  print(s)\n",
        "\n",
        "sum(3,5,10)"
      ],
      "metadata": {
        "colab": {
          "base_uri": "https://localhost:8080/"
        },
        "id": "8cafSBC7pwuv",
        "outputId": "2a448413-da97-4b0a-dce0-fb44de9b6579"
      },
      "execution_count": 27,
      "outputs": [
        {
          "output_type": "stream",
          "name": "stdout",
          "text": [
            "6.0\n"
          ]
        }
      ]
    },
    {
      "cell_type": "code",
      "source": [
        "def pnt(n, *values):\n",
        "  for i in range(n):\n",
        "    for value in values:\n",
        "      print(value, end = '')\n",
        "    print()\n",
        "\n",
        "pnt(2, \"안녕하세요\", \"즐거운\", \"파이썬\")\n",
        "pnt(1, \"즐거운\", \"파이썬\")"
      ],
      "metadata": {
        "colab": {
          "base_uri": "https://localhost:8080/"
        },
        "id": "8MpPBTNdqB7G",
        "outputId": "7e9b0393-d568-40b4-fa44-7e8e4daa8d06"
      },
      "execution_count": 31,
      "outputs": [
        {
          "output_type": "stream",
          "name": "stdout",
          "text": [
            "안녕하세요즐거운파이썬\n",
            "안녕하세요즐거운파이썬\n",
            "즐거운파이썬\n"
          ]
        }
      ]
    },
    {
      "cell_type": "code",
      "source": [
        "def am(choice):\n",
        "  if choice == \"add\":\n",
        "    result ="
      ],
      "metadata": {
        "id": "4Wh-0_G7rNOa"
      },
      "execution_count": null,
      "outputs": []
    }
  ]
}