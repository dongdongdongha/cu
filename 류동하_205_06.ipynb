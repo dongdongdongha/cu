{
  "nbformat": 4,
  "nbformat_minor": 0,
  "metadata": {
    "colab": {
      "provenance": [],
      "include_colab_link": true
    },
    "kernelspec": {
      "name": "python3",
      "display_name": "Python 3"
    },
    "language_info": {
      "name": "python"
    }
  },
  "cells": [
    {
      "cell_type": "markdown",
      "metadata": {
        "id": "view-in-github",
        "colab_type": "text"
      },
      "source": [
        "<a href=\"https://colab.research.google.com/github/dongdongdongha/cu/blob/main/%EB%A5%98%EB%8F%99%ED%95%98_205_06.ipynb\" target=\"_parent\"><img src=\"https://colab.research.google.com/assets/colab-badge.svg\" alt=\"Open In Colab\"/></a>"
      ]
    },
    {
      "cell_type": "code",
      "execution_count": 2,
      "metadata": {
        "id": "iv_Yg4W31bUH",
        "colab": {
          "base_uri": "https://localhost:8080/"
        },
        "outputId": "97dcba1c-a654-4c4b-a660-60288d8867de"
      },
      "outputs": [
        {
          "output_type": "stream",
          "name": "stdout",
          "text": [
            "안녕하세요\n",
            "안녕하세요\n",
            "안녕하세요\n"
          ]
        }
      ],
      "source": [
        "for i in[1,2,3]:\n",
        "  print('안녕하세요')"
      ]
    },
    {
      "cell_type": "code",
      "source": [
        "for i in range(10):\n",
        "  print(i,end = ' ')"
      ],
      "metadata": {
        "colab": {
          "base_uri": "https://localhost:8080/"
        },
        "id": "6jAcvyOU5wd-",
        "outputId": "251e16fc-2065-41dc-8dba-0a838bcb36db"
      },
      "execution_count": 3,
      "outputs": [
        {
          "output_type": "stream",
          "name": "stdout",
          "text": [
            "0 1 2 3 4 5 6 7 8 9 "
          ]
        }
      ]
    },
    {
      "cell_type": "code",
      "source": [
        "for i in range(1,11):\n",
        "  print(i,end = ' ')"
      ],
      "metadata": {
        "colab": {
          "base_uri": "https://localhost:8080/"
        },
        "id": "FoERtmo95y9K",
        "outputId": "8fea1b3e-9b8c-47a5-8727-c75309f1b590"
      },
      "execution_count": 4,
      "outputs": [
        {
          "output_type": "stream",
          "name": "stdout",
          "text": [
            "1 2 3 4 5 6 7 8 9 10 "
          ]
        }
      ]
    },
    {
      "cell_type": "code",
      "source": [
        "for i in range(20, 0, -2):\n",
        "  print(i,end = ' ')"
      ],
      "metadata": {
        "colab": {
          "base_uri": "https://localhost:8080/"
        },
        "id": "feCUsRhb52Qe",
        "outputId": "bbe817d7-c081-4219-d49a-a853743a3de7"
      },
      "execution_count": 5,
      "outputs": [
        {
          "output_type": "stream",
          "name": "stdout",
          "text": [
            "20 18 16 14 12 10 8 6 4 2 "
          ]
        }
      ]
    },
    {
      "cell_type": "code",
      "source": [
        "for i in range(0,3,1):\n",
        "  print('안녕하세요')"
      ],
      "metadata": {
        "colab": {
          "base_uri": "https://localhost:8080/"
        },
        "id": "r6tjsz4C55YM",
        "outputId": "ad435942-2121-4dc1-e147-ad54d5f7158d"
      },
      "execution_count": 8,
      "outputs": [
        {
          "output_type": "stream",
          "name": "stdout",
          "text": [
            "안녕하세요\n",
            "안녕하세요\n",
            "안녕하세요\n"
          ]
        }
      ]
    },
    {
      "cell_type": "code",
      "source": [
        "a = 10\n",
        "for num in range(1,5,2):\n",
        "  a += num\n",
        "print(a)"
      ],
      "metadata": {
        "colab": {
          "base_uri": "https://localhost:8080/"
        },
        "id": "iNTUETzw57yG",
        "outputId": "d89c9782-b4b2-4b07-c91d-404643ed33e5"
      },
      "execution_count": 7,
      "outputs": [
        {
          "output_type": "stream",
          "name": "stdout",
          "text": [
            "14\n"
          ]
        }
      ]
    },
    {
      "cell_type": "code",
      "source": [
        "for i in range(1, 4):\n",
        "  print(i, '번째 학생의 성적 처리')"
      ],
      "metadata": {
        "colab": {
          "base_uri": "https://localhost:8080/"
        },
        "id": "4CegJoPq5_Sh",
        "outputId": "cc511eb9-6f24-4221-dc81-ad9d89cf5559"
      },
      "execution_count": 9,
      "outputs": [
        {
          "output_type": "stream",
          "name": "stdout",
          "text": [
            "1 번째 학생의 성적 처리\n",
            "2 번째 학생의 성적 처리\n",
            "3 번째 학생의 성적 처리\n"
          ]
        }
      ]
    },
    {
      "cell_type": "code",
      "source": [
        "for i in range(2, 21, 2):\n",
        "  print(i, end = ' ')"
      ],
      "metadata": {
        "colab": {
          "base_uri": "https://localhost:8080/"
        },
        "id": "nXCByy7D-DMN",
        "outputId": "00d00825-b96d-4253-fc96-ca4d5b9b156f"
      },
      "execution_count": 14,
      "outputs": [
        {
          "output_type": "stream",
          "name": "stdout",
          "text": [
            "2 4 6 8 10 12 14 16 18 20 "
          ]
        }
      ]
    },
    {
      "cell_type": "code",
      "source": [
        "for i in range(1, 10):\n",
        "  print(\"2 *\", i, \"=\", 2*i)"
      ],
      "metadata": {
        "colab": {
          "base_uri": "https://localhost:8080/"
        },
        "id": "N9D9pevd-9Dk",
        "outputId": "5f20356e-9597-4b86-e310-7b91bf344b25"
      },
      "execution_count": 16,
      "outputs": [
        {
          "output_type": "stream",
          "name": "stdout",
          "text": [
            "2 * 1 = 2\n",
            "2 * 2 = 4\n",
            "2 * 3 = 6\n",
            "2 * 4 = 8\n",
            "2 * 5 = 10\n",
            "2 * 6 = 12\n",
            "2 * 7 = 14\n",
            "2 * 8 = 16\n",
            "2 * 9 = 18\n"
          ]
        }
      ]
    },
    {
      "cell_type": "code",
      "source": [
        "a = 0\n",
        "for i in range(1, 11):\n",
        "  a += i\n",
        "  print(\"i의 값 :\", i, \"  => 합계 :\", a)"
      ],
      "metadata": {
        "colab": {
          "base_uri": "https://localhost:8080/"
        },
        "id": "RPPkOx6P_O6Q",
        "outputId": "731a704f-da01-4ea4-9da8-c3d9fd9c7d87"
      },
      "execution_count": 20,
      "outputs": [
        {
          "output_type": "stream",
          "name": "stdout",
          "text": [
            "i의 값 : 1   => 합계 : 1\n",
            "i의 값 : 2   => 합계 : 3\n",
            "i의 값 : 3   => 합계 : 6\n",
            "i의 값 : 4   => 합계 : 10\n",
            "i의 값 : 5   => 합계 : 15\n",
            "i의 값 : 6   => 합계 : 21\n",
            "i의 값 : 7   => 합계 : 28\n",
            "i의 값 : 8   => 합계 : 36\n",
            "i의 값 : 9   => 합계 : 45\n",
            "i의 값 : 10   => 합계 : 55\n"
          ]
        }
      ]
    },
    {
      "cell_type": "code",
      "source": [
        "a = 0\n",
        "for i in range(2, 101, 2):\n",
        "  a += i\n",
        "print(a)"
      ],
      "metadata": {
        "colab": {
          "base_uri": "https://localhost:8080/"
        },
        "id": "Bd6ohs6-_8id",
        "outputId": "b3e2e5df-f104-4b96-eb37-255855e40de4"
      },
      "execution_count": 21,
      "outputs": [
        {
          "output_type": "stream",
          "name": "stdout",
          "text": [
            "2550\n"
          ]
        }
      ]
    },
    {
      "cell_type": "code",
      "source": [
        "a = 1\n",
        "for i in range(10, 0, -1):\n",
        "  a *= i\n",
        "print(\"10! =\", a)"
      ],
      "metadata": {
        "colab": {
          "base_uri": "https://localhost:8080/"
        },
        "id": "vxJkSVJyAVYm",
        "outputId": "2430d19e-9a01-4fef-c1fe-7c0adb2686e7"
      },
      "execution_count": 23,
      "outputs": [
        {
          "output_type": "stream",
          "name": "stdout",
          "text": [
            "10! = 3628800\n"
          ]
        }
      ]
    },
    {
      "cell_type": "code",
      "source": [
        "for i in range(5, 101, 5):\n",
        "  print(i, end = '  ')\n",
        "  if i % 7 == 0:\n",
        "    print()"
      ],
      "metadata": {
        "colab": {
          "base_uri": "https://localhost:8080/"
        },
        "id": "Ioh_EBg4BQe8",
        "outputId": "273a53ac-4e9b-4414-bd23-8cedb7577a49"
      },
      "execution_count": 24,
      "outputs": [
        {
          "output_type": "stream",
          "name": "stdout",
          "text": [
            "5  10  15  20  25  30  35  \n",
            "40  45  50  55  60  65  70  \n",
            "75  80  85  90  95  100  "
          ]
        }
      ]
    },
    {
      "cell_type": "code",
      "source": [
        "a = int(input(\"정수를 입력하세요 : \"))\n",
        "for i in  range(1, a+1, 1):\n",
        "  if a % i == 0:\n",
        "    print(i, end = ' ')"
      ],
      "metadata": {
        "colab": {
          "base_uri": "https://localhost:8080/"
        },
        "id": "amUZ6z2zBtlk",
        "outputId": "fb11984f-c835-4ad8-c59f-5354d62bd633"
      },
      "execution_count": 27,
      "outputs": [
        {
          "output_type": "stream",
          "name": "stdout",
          "text": [
            "정수를 입력하세요 : 6\n",
            "1 2 3 6 "
          ]
        }
      ]
    },
    {
      "cell_type": "code",
      "source": [
        "a1 = 0\n",
        "a2 = 1\n",
        "a3 = 0\n",
        "print(a1, end = ' ')\n",
        "print(a2, end = ' ')\n",
        "for i in range(3, 21, 1):\n",
        "  a3 = a1 + a2\n",
        "  a1 = a2\n",
        "  a2 = a3\n",
        "  print(a2, end = \" \")"
      ],
      "metadata": {
        "colab": {
          "base_uri": "https://localhost:8080/"
        },
        "id": "v0wEcms8EcYg",
        "outputId": "78d82401-342d-4ea3-cb66-609b5a248cdb"
      },
      "execution_count": 28,
      "outputs": [
        {
          "output_type": "stream",
          "name": "stdout",
          "text": [
            "0 1 1 2 3 5 8 13 21 34 55 89 144 233 377 610 987 1597 2584 4181 "
          ]
        }
      ]
    },
    {
      "cell_type": "code",
      "source": [
        "for i in range(1, 41):\n",
        "  if i % 10 == 0:\n",
        "    print(\"+\", end = '')\n",
        "  else : \n",
        "    print(\"-\", end=\"\")"
      ],
      "metadata": {
        "colab": {
          "base_uri": "https://localhost:8080/"
        },
        "id": "d8hmANf7FUoM",
        "outputId": "20ee7de8-da74-453f-9507-bba9aa9a1ae1"
      },
      "execution_count": 29,
      "outputs": [
        {
          "output_type": "stream",
          "name": "stdout",
          "text": [
            "---------+---------+---------+---------+"
          ]
        }
      ]
    },
    {
      "cell_type": "code",
      "source": [
        "i = 1\n",
        "while i <= 40:\n",
        "  if i % 10 == 0:\n",
        "    print(\"+\", end = '')\n",
        "  else : \n",
        "    print(\"-\", end=\"\")\n",
        "  i += 1"
      ],
      "metadata": {
        "colab": {
          "base_uri": "https://localhost:8080/"
        },
        "id": "1mw80SWQF5xo",
        "outputId": "b5a98e10-56f3-41f8-e9e6-c52fdceeb3aa"
      },
      "execution_count": 31,
      "outputs": [
        {
          "output_type": "stream",
          "name": "stdout",
          "text": [
            "---------+---------+---------+---------+"
          ]
        }
      ]
    },
    {
      "cell_type": "code",
      "source": [
        "i = 1\n",
        "while i <= 40:\n",
        "  if i % 10 == 5:\n",
        "    print(\"+\", end = '')\n",
        "  else : \n",
        "    print(\"-\", end=\"\")\n",
        "  i += 1"
      ],
      "metadata": {
        "colab": {
          "base_uri": "https://localhost:8080/"
        },
        "id": "S_ZlTEZrGS4M",
        "outputId": "5b384e25-f433-4a43-f3da-be4781f022e0"
      },
      "execution_count": 32,
      "outputs": [
        {
          "output_type": "stream",
          "name": "stdout",
          "text": [
            "----+---------+---------+---------+-----"
          ]
        }
      ]
    },
    {
      "cell_type": "code",
      "source": [
        "print(\"-----------------------------------\")\n",
        "print(\"cm \\t inch \\t ft \\t yd\")\n",
        "print(\"-----------------------------------\")\n",
        "for i in range(10, 101, 10):\n",
        "  print(\"%d \\t %.1f \\t %.1f \\t %.1f\" %(i, i*0.393701, i*0.032808, i*0.010936))"
      ],
      "metadata": {
        "colab": {
          "base_uri": "https://localhost:8080/"
        },
        "id": "qWCvdnDGGZ2w",
        "outputId": "1cb7007a-75cf-49ac-85e8-f5d422fc281a"
      },
      "execution_count": 37,
      "outputs": [
        {
          "output_type": "stream",
          "name": "stdout",
          "text": [
            "-----------------------------------\n",
            "cm \t inch \t ft \t yd\n",
            "-----------------------------------\n",
            "10 \t 3.9 \t 0.3 \t 0.1\n",
            "20 \t 7.9 \t 0.7 \t 0.2\n",
            "30 \t 11.8 \t 1.0 \t 0.3\n",
            "40 \t 15.7 \t 1.3 \t 0.4\n",
            "50 \t 19.7 \t 1.6 \t 0.5\n",
            "60 \t 23.6 \t 2.0 \t 0.7\n",
            "70 \t 27.6 \t 2.3 \t 0.8\n",
            "80 \t 31.5 \t 2.6 \t 0.9\n",
            "90 \t 35.4 \t 3.0 \t 1.0\n",
            "100 \t 39.4 \t 3.3 \t 1.1\n"
          ]
        }
      ]
    },
    {
      "cell_type": "code",
      "source": [
        "for i in range(1, 1001) : \n",
        "  print(i, end=' ')\n",
        "  if i == 10:\n",
        "    break"
      ],
      "metadata": {
        "colab": {
          "base_uri": "https://localhost:8080/"
        },
        "id": "evLYxpvwHDxc",
        "outputId": "536108bf-4d91-4236-8efe-854292874d0b"
      },
      "execution_count": 39,
      "outputs": [
        {
          "output_type": "stream",
          "name": "stdout",
          "text": [
            "1 2 3 4 5 6 7 8 9 10 "
          ]
        }
      ]
    },
    {
      "cell_type": "code",
      "source": [
        "score = [92, 86, 68, 120, 56, 72]\n",
        "for s in score:\n",
        "  if(s < 0 or s > 100):\n",
        "    break\n",
        "  print(s)\n",
        "print(\"성적 처리 끝\")"
      ],
      "metadata": {
        "colab": {
          "base_uri": "https://localhost:8080/"
        },
        "id": "1vnl5OycIqgU",
        "outputId": "a6307f3e-5d72-44e7-e827-816de61759ac"
      },
      "execution_count": 41,
      "outputs": [
        {
          "output_type": "stream",
          "name": "stdout",
          "text": [
            "92\n",
            "86\n",
            "68\n",
            "성적 처리 끝\n"
          ]
        }
      ]
    },
    {
      "cell_type": "code",
      "source": [
        "score = [92, 86, 68, 120, 56, 72]\n",
        "for s in score:\n",
        "  if(s < 0 or s > 100):\n",
        "    continue\n",
        "  print(s)\n",
        "print(\"성적 처리 끝\")"
      ],
      "metadata": {
        "colab": {
          "base_uri": "https://localhost:8080/"
        },
        "id": "caXXqN6rJFJN",
        "outputId": "b343102c-40d2-400f-aae3-a5cb73de2aaa"
      },
      "execution_count": 42,
      "outputs": [
        {
          "output_type": "stream",
          "name": "stdout",
          "text": [
            "92\n",
            "86\n",
            "68\n",
            "56\n",
            "72\n",
            "성적 처리 끝\n"
          ]
        }
      ]
    },
    {
      "cell_type": "code",
      "source": [
        "print('3+4?')\n",
        "while True:\n",
        "  n = int(input('정답 입력 : '))\n",
        "  if n == 7:\n",
        "    print('참 잘했어요')\n",
        "    break"
      ],
      "metadata": {
        "colab": {
          "base_uri": "https://localhost:8080/"
        },
        "id": "h3HWqntUJOnh",
        "outputId": "c0de54aa-65ce-4422-c18c-6806da06d167"
      },
      "execution_count": 44,
      "outputs": [
        {
          "output_type": "stream",
          "name": "stdout",
          "text": [
            "3+4?\n",
            "정답 입력 : 4\n",
            "정답 입력 : 5\n",
            "정답 입력 : 8\n",
            "정답 입력 : 0\n",
            "정답 입력 : 7\n",
            "참 잘했어요\n"
          ]
        }
      ]
    },
    {
      "cell_type": "code",
      "source": [],
      "metadata": {
        "id": "BVeqMnhlbd34"
      },
      "execution_count": null,
      "outputs": []
    }
  ]
}